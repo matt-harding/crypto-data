{
 "cells": [
  {
   "cell_type": "code",
   "execution_count": 23,
   "id": "9e2553f0-c10f-4aef-9d45-f1a015e1dd12",
   "metadata": {},
   "outputs": [],
   "source": [
    "\"\"\"\n",
    "CoinMarketCap offers free access to their api for personal usage.\n",
    "An API Key is required with a limited number of credits per day/month\n",
    "\n",
    "https://coinmarketcap.com/api\n",
    "\"\"\"\n",
    "\n",
    "api_key = 'INSERT HERE'"
   ]
  },
  {
   "cell_type": "code",
   "execution_count": 24,
   "id": "7727e81e-2e18-40f7-814d-b4d729af99df",
   "metadata": {},
   "outputs": [
    {
     "name": "stdout",
     "output_type": "stream",
     "text": [
      "Requirement already satisfied: python-coinmarketcap in /Library/Frameworks/Python.framework/Versions/3.10/lib/python3.10/site-packages (0.5)\n",
      "Requirement already satisfied: requests>=2.2.0 in /Library/Frameworks/Python.framework/Versions/3.10/lib/python3.10/site-packages (from python-coinmarketcap) (2.27.1)\n",
      "Requirement already satisfied: certifi>=2017.4.17 in /Library/Frameworks/Python.framework/Versions/3.10/lib/python3.10/site-packages (from requests>=2.2.0->python-coinmarketcap) (2021.10.8)\n",
      "Requirement already satisfied: idna<4,>=2.5 in /Library/Frameworks/Python.framework/Versions/3.10/lib/python3.10/site-packages (from requests>=2.2.0->python-coinmarketcap) (2.10)\n",
      "Requirement already satisfied: charset-normalizer~=2.0.0 in /Library/Frameworks/Python.framework/Versions/3.10/lib/python3.10/site-packages (from requests>=2.2.0->python-coinmarketcap) (2.0.12)\n",
      "Requirement already satisfied: urllib3<1.27,>=1.21.1 in /Library/Frameworks/Python.framework/Versions/3.10/lib/python3.10/site-packages (from requests>=2.2.0->python-coinmarketcap) (1.26.8)\n",
      "\u001b[33mWARNING: You are using pip version 21.2.4; however, version 22.3.1 is available.\n",
      "You should consider upgrading via the '/Library/Frameworks/Python.framework/Versions/3.10/bin/python3.10 -m pip install --upgrade pip' command.\u001b[0m\n",
      "Note: you may need to restart the kernel to use updated packages.\n"
     ]
    }
   ],
   "source": [
    "pip install -U python-coinmarketcap"
   ]
  },
  {
   "cell_type": "code",
   "execution_count": 25,
   "id": "02b19539-766a-4146-915f-5650cd2f17d6",
   "metadata": {},
   "outputs": [],
   "source": [
    "from dataclasses import dataclass\n",
    "\n",
    "@dataclass\n",
    "class StableCoin:\n",
    "    \"\"\"Class for condensing exchange data to just the props we care about\"\"\"\n",
    "    id: str = ''\n",
    "    symbol: str = ''\n",
    "    name: str = ''\n",
    "    market_cap: float = 0\n",
    "    circulating_supply: float = 0\n",
    "    total_supply: float = 0\n",
    "    twentyfourhour_volume: float = 0\n",
    "    price: float = 0\n",
    "    last_updated: str = ''"
   ]
  },
  {
   "cell_type": "code",
   "execution_count": 26,
   "id": "c1952772-17cb-44b8-bda3-f0485d8c764a",
   "metadata": {},
   "outputs": [],
   "source": [
    "target_coin_symbols = ['usdt', 'usdc', 'busd', 'dai', 'tusd', 'gusd'] \n",
    "target_coin_symbols = [symbol.upper() for symbol in target_coin_symbols]"
   ]
  },
  {
   "cell_type": "code",
   "execution_count": 27,
   "id": "972a0912-c60d-46f6-883b-01988c38776a",
   "metadata": {},
   "outputs": [],
   "source": [
    "from coinmarketcapapi import CoinMarketCapAPI\n",
    "\n",
    "# https://pypi.org/project/python-coinmarketcap/\n",
    "cmc = CoinMarketCapAPI(api_key)"
   ]
  },
  {
   "cell_type": "code",
   "execution_count": 28,
   "id": "71fbade7-6aad-4ff9-98df-8725d1086632",
   "metadata": {},
   "outputs": [],
   "source": [
    "rep = cmc.cryptocurrency_listings_latest()"
   ]
  },
  {
   "cell_type": "code",
   "execution_count": 29,
   "id": "1299f387-6465-40e5-bdec-67df21bb527f",
   "metadata": {},
   "outputs": [],
   "source": [
    "coins = []\n",
    "\n",
    "for coin_data in rep.data:\n",
    "    if coin_data['symbol'] in target_coin_symbols:\n",
    "        coin = StableCoin()\n",
    "        coin.id = coin_data['id']\n",
    "        coin.symbol = coin_data['symbol']\n",
    "        coin.name = coin_data['name']\n",
    "        coin.market_cap = coin_data['quote']['USD']['market_cap']\n",
    "        coin.circulating_supply = coin_data['circulating_supply']\n",
    "        coin.total_supply = coin_data['total_supply']\n",
    "        coin.twentyfourhour_volume = coin_data['quote']['USD']['volume_24h']\n",
    "        coin.price = coin_data['quote']['USD']['price']\n",
    "        coin.last_updated = coin_data['last_updated']\n",
    "        \n",
    "        coins.append(coin)"
   ]
  },
  {
   "cell_type": "code",
   "execution_count": 30,
   "id": "a5ffe0a9-8956-4c8a-9aca-5793c76e0986",
   "metadata": {
    "tags": []
   },
   "outputs": [
    {
     "data": {
      "text/html": [
       "<div>\n",
       "<style scoped>\n",
       "    .dataframe tbody tr th:only-of-type {\n",
       "        vertical-align: middle;\n",
       "    }\n",
       "\n",
       "    .dataframe tbody tr th {\n",
       "        vertical-align: top;\n",
       "    }\n",
       "\n",
       "    .dataframe thead th {\n",
       "        text-align: right;\n",
       "    }\n",
       "</style>\n",
       "<table border=\"1\" class=\"dataframe\">\n",
       "  <thead>\n",
       "    <tr style=\"text-align: right;\">\n",
       "      <th></th>\n",
       "      <th>id</th>\n",
       "      <th>symbol</th>\n",
       "      <th>name</th>\n",
       "      <th>market_cap</th>\n",
       "      <th>circulating_supply</th>\n",
       "      <th>total_supply</th>\n",
       "      <th>twentyfourhour_volume</th>\n",
       "      <th>price</th>\n",
       "      <th>last_updated</th>\n",
       "    </tr>\n",
       "  </thead>\n",
       "  <tbody>\n",
       "    <tr>\n",
       "      <th>0</th>\n",
       "      <td>825</td>\n",
       "      <td>USDT</td>\n",
       "      <td>Tether</td>\n",
       "      <td>6.600906e+10</td>\n",
       "      <td>6.605859e+10</td>\n",
       "      <td>7.314177e+10</td>\n",
       "      <td>4.807896e+10</td>\n",
       "      <td>0.999250</td>\n",
       "      <td>2022-11-16T17:50:00.000Z</td>\n",
       "    </tr>\n",
       "    <tr>\n",
       "      <th>1</th>\n",
       "      <td>3408</td>\n",
       "      <td>USDC</td>\n",
       "      <td>USD Coin</td>\n",
       "      <td>4.434390e+10</td>\n",
       "      <td>4.433445e+10</td>\n",
       "      <td>4.433445e+10</td>\n",
       "      <td>3.951203e+09</td>\n",
       "      <td>1.000213</td>\n",
       "      <td>2022-11-16T17:50:00.000Z</td>\n",
       "    </tr>\n",
       "    <tr>\n",
       "      <th>2</th>\n",
       "      <td>4687</td>\n",
       "      <td>BUSD</td>\n",
       "      <td>Binance USD</td>\n",
       "      <td>2.318810e+10</td>\n",
       "      <td>2.318480e+10</td>\n",
       "      <td>2.318480e+10</td>\n",
       "      <td>7.736549e+09</td>\n",
       "      <td>1.000142</td>\n",
       "      <td>2022-11-16T17:50:00.000Z</td>\n",
       "    </tr>\n",
       "    <tr>\n",
       "      <th>3</th>\n",
       "      <td>4943</td>\n",
       "      <td>DAI</td>\n",
       "      <td>Dai</td>\n",
       "      <td>5.892895e+09</td>\n",
       "      <td>5.889644e+09</td>\n",
       "      <td>5.889644e+09</td>\n",
       "      <td>4.670506e+08</td>\n",
       "      <td>1.000552</td>\n",
       "      <td>2022-11-16T17:50:00.000Z</td>\n",
       "    </tr>\n",
       "    <tr>\n",
       "      <th>4</th>\n",
       "      <td>2563</td>\n",
       "      <td>TUSD</td>\n",
       "      <td>TrueUSD</td>\n",
       "      <td>8.645723e+08</td>\n",
       "      <td>8.645946e+08</td>\n",
       "      <td>8.645946e+08</td>\n",
       "      <td>3.332597e+07</td>\n",
       "      <td>0.999974</td>\n",
       "      <td>2022-11-16T17:50:00.000Z</td>\n",
       "    </tr>\n",
       "    <tr>\n",
       "      <th>5</th>\n",
       "      <td>3306</td>\n",
       "      <td>GUSD</td>\n",
       "      <td>Gemini Dollar</td>\n",
       "      <td>6.531933e+08</td>\n",
       "      <td>6.503262e+08</td>\n",
       "      <td>6.503262e+08</td>\n",
       "      <td>1.519917e+07</td>\n",
       "      <td>1.004409</td>\n",
       "      <td>2022-11-16T17:50:00.000Z</td>\n",
       "    </tr>\n",
       "  </tbody>\n",
       "</table>\n",
       "</div>"
      ],
      "text/plain": [
       "     id symbol           name    market_cap  circulating_supply  total_supply  \\\n",
       "0   825   USDT         Tether  6.600906e+10        6.605859e+10  7.314177e+10   \n",
       "1  3408   USDC       USD Coin  4.434390e+10        4.433445e+10  4.433445e+10   \n",
       "2  4687   BUSD    Binance USD  2.318810e+10        2.318480e+10  2.318480e+10   \n",
       "3  4943    DAI            Dai  5.892895e+09        5.889644e+09  5.889644e+09   \n",
       "4  2563   TUSD        TrueUSD  8.645723e+08        8.645946e+08  8.645946e+08   \n",
       "5  3306   GUSD  Gemini Dollar  6.531933e+08        6.503262e+08  6.503262e+08   \n",
       "\n",
       "   twentyfourhour_volume     price              last_updated  \n",
       "0           4.807896e+10  0.999250  2022-11-16T17:50:00.000Z  \n",
       "1           3.951203e+09  1.000213  2022-11-16T17:50:00.000Z  \n",
       "2           7.736549e+09  1.000142  2022-11-16T17:50:00.000Z  \n",
       "3           4.670506e+08  1.000552  2022-11-16T17:50:00.000Z  \n",
       "4           3.332597e+07  0.999974  2022-11-16T17:50:00.000Z  \n",
       "5           1.519917e+07  1.004409  2022-11-16T17:50:00.000Z  "
      ]
     },
     "execution_count": 30,
     "metadata": {},
     "output_type": "execute_result"
    }
   ],
   "source": [
    "import pandas as pd\n",
    "\n",
    "df = pd.DataFrame(coins)\n",
    "\n",
    "df"
   ]
  },
  {
   "cell_type": "code",
   "execution_count": null,
   "id": "3c6a11d3-2fe5-4815-a5c1-33be8dc13a42",
   "metadata": {},
   "outputs": [],
   "source": []
  }
 ],
 "metadata": {
  "kernelspec": {
   "display_name": "Python 3.10.2 64-bit",
   "language": "python",
   "name": "python3"
  },
  "language_info": {
   "codemirror_mode": {
    "name": "ipython",
    "version": 3
   },
   "file_extension": ".py",
   "mimetype": "text/x-python",
   "name": "python",
   "nbconvert_exporter": "python",
   "pygments_lexer": "ipython3",
   "version": "3.10.2"
  },
  "vscode": {
   "interpreter": {
    "hash": "aee8b7b246df8f9039afb4144a1f6fd8d2ca17a180786b69acc140d282b71a49"
   }
  }
 },
 "nbformat": 4,
 "nbformat_minor": 5
}
