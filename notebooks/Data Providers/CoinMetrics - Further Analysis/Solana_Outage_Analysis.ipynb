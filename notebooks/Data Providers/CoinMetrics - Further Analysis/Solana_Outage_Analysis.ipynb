{
 "cells": [
  {
   "cell_type": "code",
   "execution_count": 26,
   "id": "aa026052-1c40-4cfd-a9ad-f8fce7938bd7",
   "metadata": {},
   "outputs": [
    {
     "name": "stdout",
     "output_type": "stream",
     "text": [
      "Requirement already satisfied: coinmetrics-api-client in /Library/Frameworks/Python.framework/Versions/3.10/lib/python3.10/site-packages (2022.11.14.16)\n",
      "Requirement already satisfied: orjson<4.0.0,>=3.6.0 in /Library/Frameworks/Python.framework/Versions/3.10/lib/python3.10/site-packages (from coinmetrics-api-client) (3.8.2)\n",
      "Requirement already satisfied: websocket-client<2.0.0,>=1.2.1 in /Library/Frameworks/Python.framework/Versions/3.10/lib/python3.10/site-packages (from coinmetrics-api-client) (1.3.1)\n",
      "Requirement already satisfied: requests<3.0.0,>=2.24.0 in /Library/Frameworks/Python.framework/Versions/3.10/lib/python3.10/site-packages (from coinmetrics-api-client) (2.27.1)\n",
      "Requirement already satisfied: typer<0.7.0,>=0.6.1 in /Library/Frameworks/Python.framework/Versions/3.10/lib/python3.10/site-packages (from coinmetrics-api-client) (0.6.1)\n",
      "Requirement already satisfied: python-dateutil<3.0.0,>=2.8.2 in /Library/Frameworks/Python.framework/Versions/3.10/lib/python3.10/site-packages (from coinmetrics-api-client) (2.8.2)\n",
      "Requirement already satisfied: six>=1.5 in /Library/Frameworks/Python.framework/Versions/3.10/lib/python3.10/site-packages (from python-dateutil<3.0.0,>=2.8.2->coinmetrics-api-client) (1.16.0)\n",
      "Requirement already satisfied: urllib3<1.27,>=1.21.1 in /Library/Frameworks/Python.framework/Versions/3.10/lib/python3.10/site-packages (from requests<3.0.0,>=2.24.0->coinmetrics-api-client) (1.26.8)\n",
      "Requirement already satisfied: certifi>=2017.4.17 in /Library/Frameworks/Python.framework/Versions/3.10/lib/python3.10/site-packages (from requests<3.0.0,>=2.24.0->coinmetrics-api-client) (2021.10.8)\n",
      "Requirement already satisfied: idna<4,>=2.5 in /Library/Frameworks/Python.framework/Versions/3.10/lib/python3.10/site-packages (from requests<3.0.0,>=2.24.0->coinmetrics-api-client) (2.10)\n",
      "Requirement already satisfied: charset-normalizer~=2.0.0 in /Library/Frameworks/Python.framework/Versions/3.10/lib/python3.10/site-packages (from requests<3.0.0,>=2.24.0->coinmetrics-api-client) (2.0.12)\n",
      "Requirement already satisfied: click<9.0.0,>=7.1.1 in /Library/Frameworks/Python.framework/Versions/3.10/lib/python3.10/site-packages (from typer<0.7.0,>=0.6.1->coinmetrics-api-client) (8.0.4)\n",
      "\u001b[33mWARNING: You are using pip version 21.2.4; however, version 22.3.1 is available.\n",
      "You should consider upgrading via the '/Library/Frameworks/Python.framework/Versions/3.10/bin/python3.10 -m pip install --upgrade pip' command.\u001b[0m\n"
     ]
    }
   ],
   "source": [
    "!pip3 install -U coinmetrics-api-client"
   ]
  },
  {
   "cell_type": "code",
   "execution_count": 27,
   "id": "81598789-86cf-40cf-a4ea-a914f5577daa",
   "metadata": {},
   "outputs": [
    {
     "name": "stdout",
     "output_type": "stream",
     "text": [
      "Requirement already satisfied: seaborn in /Library/Frameworks/Python.framework/Versions/3.10/lib/python3.10/site-packages (0.12.1)\n",
      "Requirement already satisfied: numpy>=1.17 in /Library/Frameworks/Python.framework/Versions/3.10/lib/python3.10/site-packages (from seaborn) (1.21.2)\n",
      "Requirement already satisfied: pandas>=0.25 in /Library/Frameworks/Python.framework/Versions/3.10/lib/python3.10/site-packages (from seaborn) (1.3.4)\n",
      "Requirement already satisfied: matplotlib!=3.6.1,>=3.1 in /Library/Frameworks/Python.framework/Versions/3.10/lib/python3.10/site-packages (from seaborn) (3.6.2)\n",
      "Requirement already satisfied: fonttools>=4.22.0 in /Library/Frameworks/Python.framework/Versions/3.10/lib/python3.10/site-packages (from matplotlib!=3.6.1,>=3.1->seaborn) (4.38.0)\n",
      "Requirement already satisfied: pyparsing>=2.2.1 in /Library/Frameworks/Python.framework/Versions/3.10/lib/python3.10/site-packages (from matplotlib!=3.6.1,>=3.1->seaborn) (3.0.7)\n",
      "Requirement already satisfied: kiwisolver>=1.0.1 in /Library/Frameworks/Python.framework/Versions/3.10/lib/python3.10/site-packages (from matplotlib!=3.6.1,>=3.1->seaborn) (1.4.2)\n",
      "Requirement already satisfied: python-dateutil>=2.7 in /Library/Frameworks/Python.framework/Versions/3.10/lib/python3.10/site-packages (from matplotlib!=3.6.1,>=3.1->seaborn) (2.8.2)\n",
      "Requirement already satisfied: contourpy>=1.0.1 in /Library/Frameworks/Python.framework/Versions/3.10/lib/python3.10/site-packages (from matplotlib!=3.6.1,>=3.1->seaborn) (1.0.6)\n",
      "Requirement already satisfied: pillow>=6.2.0 in /Library/Frameworks/Python.framework/Versions/3.10/lib/python3.10/site-packages (from matplotlib!=3.6.1,>=3.1->seaborn) (9.0.1)\n",
      "Requirement already satisfied: cycler>=0.10 in /Library/Frameworks/Python.framework/Versions/3.10/lib/python3.10/site-packages (from matplotlib!=3.6.1,>=3.1->seaborn) (0.11.0)\n",
      "Requirement already satisfied: packaging>=20.0 in /Library/Frameworks/Python.framework/Versions/3.10/lib/python3.10/site-packages (from matplotlib!=3.6.1,>=3.1->seaborn) (21.3)\n",
      "Requirement already satisfied: pytz>=2017.3 in /Library/Frameworks/Python.framework/Versions/3.10/lib/python3.10/site-packages (from pandas>=0.25->seaborn) (2021.3)\n",
      "Requirement already satisfied: six>=1.5 in /Library/Frameworks/Python.framework/Versions/3.10/lib/python3.10/site-packages (from python-dateutil>=2.7->matplotlib!=3.6.1,>=3.1->seaborn) (1.16.0)\n",
      "\u001b[33mWARNING: You are using pip version 21.2.4; however, version 22.3.1 is available.\n",
      "You should consider upgrading via the '/Library/Frameworks/Python.framework/Versions/3.10/bin/python3.10 -m pip install --upgrade pip' command.\u001b[0m\n"
     ]
    }
   ],
   "source": [
    "!pip3 install seaborn"
   ]
  },
  {
   "cell_type": "code",
   "execution_count": 1,
   "id": "c107f72a-c99e-4d39-90bf-ecf1d0b0ab2c",
   "metadata": {},
   "outputs": [],
   "source": [
    "# https://pypi.org/project/coinmetrics-api-client/\n",
    "from coinmetrics.api_client import CoinMetricsClient\n",
    "\n",
    "API_KEY = 'INSERT HERE'\n",
    "\n",
    "# Community API:\n",
    "client = CoinMetricsClient(API_KEY)"
   ]
  },
  {
   "cell_type": "code",
   "execution_count": 2,
   "id": "f811179c-b3c0-49a9-b48a-5ee5bc9715d4",
   "metadata": {},
   "outputs": [],
   "source": [
    "metrics = 'ReferenceRateUSD'\n",
    "assets = 'sol'"
   ]
  },
  {
   "cell_type": "code",
   "execution_count": 12,
   "id": "4336d650-1204-4cfb-b0c2-c651bbdf4560",
   "metadata": {},
   "outputs": [],
   "source": [
    "# https://jumpcrypto.com/reflections-on-the-sept-14-solana-outage/\n",
    "\n",
    "from datetime import datetime, timedelta\n",
    "\n",
    "df = client.get_asset_metrics(\n",
    "    assets = assets,\n",
    "    metrics = metrics,\n",
    "    start_time = '2021-09-12',\n",
    "    end_time = '2021-09-16',\n",
    "    frequency='1m'\n",
    ").to_dataframe()"
   ]
  },
  {
   "cell_type": "code",
   "execution_count": 13,
   "id": "5ec35802-e0e6-404f-bf4d-0f73b83c7daf",
   "metadata": {},
   "outputs": [
    {
     "data": {
      "text/html": [
       "<div>\n",
       "<style scoped>\n",
       "    .dataframe tbody tr th:only-of-type {\n",
       "        vertical-align: middle;\n",
       "    }\n",
       "\n",
       "    .dataframe tbody tr th {\n",
       "        vertical-align: top;\n",
       "    }\n",
       "\n",
       "    .dataframe thead th {\n",
       "        text-align: right;\n",
       "    }\n",
       "</style>\n",
       "<table border=\"1\" class=\"dataframe\">\n",
       "  <thead>\n",
       "    <tr style=\"text-align: right;\">\n",
       "      <th></th>\n",
       "      <th>asset</th>\n",
       "      <th>time</th>\n",
       "      <th>ReferenceRateUSD</th>\n",
       "    </tr>\n",
       "  </thead>\n",
       "  <tbody>\n",
       "    <tr>\n",
       "      <th>0</th>\n",
       "      <td>sol</td>\n",
       "      <td>2021-09-12 00:00:00+00:00</td>\n",
       "      <td>179.1666</td>\n",
       "    </tr>\n",
       "    <tr>\n",
       "      <th>1</th>\n",
       "      <td>sol</td>\n",
       "      <td>2021-09-12 00:01:00+00:00</td>\n",
       "      <td>177.344746</td>\n",
       "    </tr>\n",
       "    <tr>\n",
       "      <th>2</th>\n",
       "      <td>sol</td>\n",
       "      <td>2021-09-12 00:02:00+00:00</td>\n",
       "      <td>177.7755</td>\n",
       "    </tr>\n",
       "    <tr>\n",
       "      <th>3</th>\n",
       "      <td>sol</td>\n",
       "      <td>2021-09-12 00:03:00+00:00</td>\n",
       "      <td>178.2653</td>\n",
       "    </tr>\n",
       "    <tr>\n",
       "      <th>4</th>\n",
       "      <td>sol</td>\n",
       "      <td>2021-09-12 00:04:00+00:00</td>\n",
       "      <td>178.250743</td>\n",
       "    </tr>\n",
       "    <tr>\n",
       "      <th>...</th>\n",
       "      <td>...</td>\n",
       "      <td>...</td>\n",
       "      <td>...</td>\n",
       "    </tr>\n",
       "    <tr>\n",
       "      <th>7195</th>\n",
       "      <td>sol</td>\n",
       "      <td>2021-09-16 23:55:00+00:00</td>\n",
       "      <td>152.0076</td>\n",
       "    </tr>\n",
       "    <tr>\n",
       "      <th>7196</th>\n",
       "      <td>sol</td>\n",
       "      <td>2021-09-16 23:56:00+00:00</td>\n",
       "      <td>152.0152</td>\n",
       "    </tr>\n",
       "    <tr>\n",
       "      <th>7197</th>\n",
       "      <td>sol</td>\n",
       "      <td>2021-09-16 23:57:00+00:00</td>\n",
       "      <td>152.039024</td>\n",
       "    </tr>\n",
       "    <tr>\n",
       "      <th>7198</th>\n",
       "      <td>sol</td>\n",
       "      <td>2021-09-16 23:58:00+00:00</td>\n",
       "      <td>152.33</td>\n",
       "    </tr>\n",
       "    <tr>\n",
       "      <th>7199</th>\n",
       "      <td>sol</td>\n",
       "      <td>2021-09-16 23:59:00+00:00</td>\n",
       "      <td>152.3381</td>\n",
       "    </tr>\n",
       "  </tbody>\n",
       "</table>\n",
       "<p>7200 rows × 3 columns</p>\n",
       "</div>"
      ],
      "text/plain": [
       "     asset                      time  ReferenceRateUSD\n",
       "0      sol 2021-09-12 00:00:00+00:00          179.1666\n",
       "1      sol 2021-09-12 00:01:00+00:00        177.344746\n",
       "2      sol 2021-09-12 00:02:00+00:00          177.7755\n",
       "3      sol 2021-09-12 00:03:00+00:00          178.2653\n",
       "4      sol 2021-09-12 00:04:00+00:00        178.250743\n",
       "...    ...                       ...               ...\n",
       "7195   sol 2021-09-16 23:55:00+00:00          152.0076\n",
       "7196   sol 2021-09-16 23:56:00+00:00          152.0152\n",
       "7197   sol 2021-09-16 23:57:00+00:00        152.039024\n",
       "7198   sol 2021-09-16 23:58:00+00:00            152.33\n",
       "7199   sol 2021-09-16 23:59:00+00:00          152.3381\n",
       "\n",
       "[7200 rows x 3 columns]"
      ]
     },
     "execution_count": 13,
     "metadata": {},
     "output_type": "execute_result"
    }
   ],
   "source": [
    "df"
   ]
  },
  {
   "cell_type": "code",
   "execution_count": 14,
   "id": "fd54f10d-e211-4100-bc31-d92cc3c81906",
   "metadata": {},
   "outputs": [],
   "source": [
    "import seaborn as sns\n",
    "\n",
    "# Apply the default theme\n",
    "sns.set_theme()"
   ]
  },
  {
   "cell_type": "code",
   "execution_count": 15,
   "id": "3f0e5b6d-6e34-48b5-9a29-3f73c28ad290",
   "metadata": {},
   "outputs": [
    {
     "data": {
      "text/plain": [
       "<seaborn.axisgrid.FacetGrid at 0x116ea9630>"
      ]
     },
     "execution_count": 15,
     "metadata": {},
     "output_type": "execute_result"
    },
    {
     "data": {
      "image/png": "[encoded data removed]",
      "text/plain": [
       "<Figure size 360x360 with 1 Axes>"
      ]
     },
     "metadata": {},
     "output_type": "display_data"
    }
   ],
   "source": [
    "sns.relplot(\n",
    "    data=df, kind=\"line\",\n",
    "    x=\"time\", y=\"ReferenceRateUSD\"\n",
    ")"
   ]
  },
  {
   "cell_type": "code",
   "execution_count": 20,
   "id": "4cf63972-0cd4-46c7-b59d-ca3c2c84052e",
   "metadata": {},
   "outputs": [
    {
     "name": "stdout",
     "output_type": "stream",
     "text": [
      "21600\n",
      "4323\n"
     ]
    }
   ],
   "source": [
    "df2 = df[(df.time >= '2021-09-14') & (df.time <= '2021-09-15')]\n",
    "\n",
    "print(df.size)\n",
    "print(df2.size)"
   ]
  },
  {
   "cell_type": "code",
   "execution_count": 21,
   "id": "c010ddb3-3c3c-40ff-adf2-ab7c7dd6b06c",
   "metadata": {},
   "outputs": [
    {
     "data": {
      "text/plain": [
       "<seaborn.axisgrid.FacetGrid at 0x116f435e0>"
      ]
     },
     "execution_count": 21,
     "metadata": {},
     "output_type": "execute_result"
    },
    {
     "data": {
      "image/png": "[encoded data removed]",
      "text/plain": [
       "<Figure size 360x360 with 1 Axes>"
      ]
     },
     "metadata": {},
     "output_type": "display_data"
    }
   ],
   "source": [
    "sns.relplot(\n",
    "    data=df2, kind=\"line\",\n",
    "    x=\"time\", y=\"ReferenceRateUSD\"\n",
    ")"
   ]
  },
  {
   "cell_type": "code",
   "execution_count": 22,
   "id": "2baeb70e-49d2-488e-8752-04d9d2600dd8",
   "metadata": {},
   "outputs": [
    {
     "data": {
      "text/plain": [
       "2880   2021-09-14 00:00:00+00:00\n",
       "2881   2021-09-14 00:01:00+00:00\n",
       "2882   2021-09-14 00:02:00+00:00\n",
       "2883   2021-09-14 00:03:00+00:00\n",
       "2884   2021-09-14 00:04:00+00:00\n",
       "                  ...           \n",
       "4316   2021-09-14 23:56:00+00:00\n",
       "4317   2021-09-14 23:57:00+00:00\n",
       "4318   2021-09-14 23:58:00+00:00\n",
       "4319   2021-09-14 23:59:00+00:00\n",
       "4320   2021-09-15 00:00:00+00:00\n",
       "Name: time, Length: 1441, dtype: datetime64[ns, tzutc()]"
      ]
     },
     "execution_count": 22,
     "metadata": {},
     "output_type": "execute_result"
    }
   ],
   "source": [
    "df2['time']"
   ]
  },
  {
   "cell_type": "code",
   "execution_count": 23,
   "id": "fe5cf155-cc85-4dc4-82d1-1824bdd567a4",
   "metadata": {},
   "outputs": [
    {
     "name": "stderr",
     "output_type": "stream",
     "text": [
      "Error found for the query: \n",
      " https://api.coinmetrics.io/v4/timeseries/asset-metrics?api_key=INSERT_KEY&assets=sol&metrics=CapMrktEstUSD&frequency=1m&paging_from=start&start_time=2021-09-12&end_time=2021-09-16\n",
      "Error details: {'type': 'bad_parameter', 'message': \"Bad parameter 'metrics'. All requested metrics aren't supported for asset 'sol' and frequency '1m'.\"}\n"
     ]
    },
    {
     "ename": "HTTPError",
     "evalue": "400 Client Error: Bad Request for url: https://api.coinmetrics.io/v4/timeseries/asset-metrics?api_key=INSERT_KEY&assets=sol&metrics=CapMrktEstUSD&frequency=1m&paging_from=start&start_time=2021-09-12&end_time=2021-09-16",
     "output_type": "error",
     "traceback": [
      "\u001b[0;31m---------------------------------------------------------------------------\u001b[0m",
      "\u001b[0;31mHTTPError\u001b[0m                                 Traceback (most recent call last)",
      "Input \u001b[0;32mIn [23]\u001b[0m, in \u001b[0;36m<cell line: 5>\u001b[0;34m()\u001b[0m\n\u001b[1;32m      1\u001b[0m \u001b[38;5;66;03m# https://jumpcrypto.com/reflections-on-the-sept-14-solana-outage/\u001b[39;00m\n\u001b[1;32m      3\u001b[0m \u001b[38;5;28;01mfrom\u001b[39;00m \u001b[38;5;21;01mdatetime\u001b[39;00m \u001b[38;5;28;01mimport\u001b[39;00m datetime, timedelta\n\u001b[1;32m      5\u001b[0m df3 \u001b[38;5;241m=\u001b[39m \u001b[43mclient\u001b[49m\u001b[38;5;241;43m.\u001b[39;49m\u001b[43mget_asset_metrics\u001b[49m\u001b[43m(\u001b[49m\n\u001b[1;32m      6\u001b[0m \u001b[43m    \u001b[49m\u001b[43massets\u001b[49m\u001b[43m \u001b[49m\u001b[38;5;241;43m=\u001b[39;49m\u001b[43m \u001b[49m\u001b[43massets\u001b[49m\u001b[43m,\u001b[49m\n\u001b[1;32m      7\u001b[0m \u001b[43m    \u001b[49m\u001b[43mmetrics\u001b[49m\u001b[43m \u001b[49m\u001b[38;5;241;43m=\u001b[39;49m\u001b[43m \u001b[49m\u001b[43m[\u001b[49m\u001b[38;5;124;43m'\u001b[39;49m\u001b[38;5;124;43mCapMrktEstUSD\u001b[39;49m\u001b[38;5;124;43m'\u001b[39;49m\u001b[43m]\u001b[49m\u001b[43m,\u001b[49m\n\u001b[1;32m      8\u001b[0m \u001b[43m    \u001b[49m\u001b[43mstart_time\u001b[49m\u001b[43m \u001b[49m\u001b[38;5;241;43m=\u001b[39;49m\u001b[43m \u001b[49m\u001b[38;5;124;43m'\u001b[39;49m\u001b[38;5;124;43m2021-09-12\u001b[39;49m\u001b[38;5;124;43m'\u001b[39;49m\u001b[43m,\u001b[49m\n\u001b[1;32m      9\u001b[0m \u001b[43m    \u001b[49m\u001b[43mend_time\u001b[49m\u001b[43m \u001b[49m\u001b[38;5;241;43m=\u001b[39;49m\u001b[43m \u001b[49m\u001b[38;5;124;43m'\u001b[39;49m\u001b[38;5;124;43m2021-09-16\u001b[39;49m\u001b[38;5;124;43m'\u001b[39;49m\u001b[43m,\u001b[49m\n\u001b[1;32m     10\u001b[0m \u001b[43m    \u001b[49m\u001b[43mfrequency\u001b[49m\u001b[38;5;241;43m=\u001b[39;49m\u001b[38;5;124;43m'\u001b[39;49m\u001b[38;5;124;43m1m\u001b[39;49m\u001b[38;5;124;43m'\u001b[39;49m\n\u001b[0;32m---> 11\u001b[0m \u001b[43m)\u001b[49m\u001b[38;5;241;43m.\u001b[39;49m\u001b[43mto_dataframe\u001b[49m\u001b[43m(\u001b[49m\u001b[43m)\u001b[49m\n",
      "File \u001b[0;32m/Library/Frameworks/Python.framework/Versions/3.10/lib/python3.10/site-packages/coinmetrics/_data_collection.py:224\u001b[0m, in \u001b[0;36mDataCollection.to_dataframe\u001b[0;34m(self, header, dtype_mapper, optimize_pandas_types)\u001b[0m\n\u001b[1;32m    222\u001b[0m \u001b[38;5;28;01mif\u001b[39;00m optimize_pandas_types:\n\u001b[1;32m    223\u001b[0m     f \u001b[38;5;241m=\u001b[39m BytesIO()\n\u001b[0;32m--> 224\u001b[0m     \u001b[38;5;28;43mself\u001b[39;49m\u001b[38;5;241;43m.\u001b[39;49m\u001b[43mexport_to_csv\u001b[49m\u001b[43m(\u001b[49m\u001b[43mf\u001b[49m\u001b[43m)\u001b[49m\n\u001b[1;32m    225\u001b[0m     \u001b[38;5;28;01mif\u001b[39;00m f\u001b[38;5;241m.\u001b[39mgetbuffer()\u001b[38;5;241m.\u001b[39mnbytes \u001b[38;5;241m==\u001b[39m \u001b[38;5;241m0\u001b[39m:\n\u001b[1;32m    226\u001b[0m         logger\u001b[38;5;241m.\u001b[39mwarning(\u001b[38;5;124m\"\u001b[39m\u001b[38;5;124mResponse is empty.\u001b[39m\u001b[38;5;124m\"\u001b[39m)\n",
      "File \u001b[0;32m/Library/Frameworks/Python.framework/Versions/3.10/lib/python3.10/site-packages/coinmetrics/_data_collection.py:118\u001b[0m, in \u001b[0;36mDataCollection.export_to_csv\u001b[0;34m(self, path_or_bufstr, columns_to_store, compress)\u001b[0m\n\u001b[1;32m    113\u001b[0m \u001b[38;5;28;01mif\u001b[39;00m \u001b[38;5;129;01mnot\u001b[39;00m \u001b[38;5;28mself\u001b[39m\u001b[38;5;241m.\u001b[39m_csv_export_supported:\n\u001b[1;32m    114\u001b[0m     \u001b[38;5;28;01mraise\u001b[39;00m CsvExportError(\n\u001b[1;32m    115\u001b[0m         \u001b[38;5;124m\"\u001b[39m\u001b[38;5;124mSorry, csv export is not supported for this data type.\u001b[39m\u001b[38;5;124m\"\u001b[39m\n\u001b[1;32m    116\u001b[0m     )\n\u001b[0;32m--> 118\u001b[0m \u001b[38;5;28;01mreturn\u001b[39;00m \u001b[38;5;28;43mself\u001b[39;49m\u001b[38;5;241;43m.\u001b[39;49m\u001b[43m_export_to_file\u001b[49m\u001b[43m(\u001b[49m\n\u001b[1;32m    119\u001b[0m \u001b[43m    \u001b[49m\u001b[38;5;28;43mself\u001b[39;49m\u001b[38;5;241;43m.\u001b[39;49m\u001b[43m_get_csv_data_lines\u001b[49m\u001b[43m(\u001b[49m\u001b[43mcolumns_to_store\u001b[49m\u001b[43m)\u001b[49m\u001b[43m,\u001b[49m\u001b[43m \u001b[49m\u001b[43mpath_or_bufstr\u001b[49m\u001b[43m,\u001b[49m\u001b[43m \u001b[49m\u001b[43mcompress\u001b[49m\n\u001b[1;32m    120\u001b[0m \u001b[43m\u001b[49m\u001b[43m)\u001b[49m\n",
      "File \u001b[0;32m/Library/Frameworks/Python.framework/Versions/3.10/lib/python3.10/site-packages/coinmetrics/_data_collection.py:187\u001b[0m, in \u001b[0;36mDataCollection._export_to_file\u001b[0;34m(self, data_generator, path_or_bufstr, compress)\u001b[0m\n\u001b[1;32m    185\u001b[0m     output_file \u001b[38;5;241m=\u001b[39m f  \u001b[38;5;66;03m# type: ignore\u001b[39;00m\n\u001b[1;32m    186\u001b[0m \u001b[38;5;28;01mtry\u001b[39;00m:\n\u001b[0;32m--> 187\u001b[0m     \u001b[38;5;28;01mfor\u001b[39;00m line \u001b[38;5;129;01min\u001b[39;00m data_generator:\n\u001b[1;32m    188\u001b[0m         output_file\u001b[38;5;241m.\u001b[39mwrite(line)\n\u001b[1;32m    189\u001b[0m \u001b[38;5;28;01mfinally\u001b[39;00m:\n",
      "File \u001b[0;32m/Library/Frameworks/Python.framework/Versions/3.10/lib/python3.10/site-packages/coinmetrics/_data_collection.py:128\u001b[0m, in \u001b[0;36mDataCollection._get_csv_data_lines\u001b[0;34m(self, columns_to_store)\u001b[0m\n\u001b[1;32m    126\u001b[0m \u001b[38;5;28;01mif\u001b[39;00m columns_to_store \u001b[38;5;129;01mis\u001b[39;00m \u001b[38;5;28;01mNone\u001b[39;00m:\n\u001b[1;32m    127\u001b[0m     \u001b[38;5;28;01mtry\u001b[39;00m:\n\u001b[0;32m--> 128\u001b[0m         first_data_el \u001b[38;5;241m=\u001b[39m \u001b[38;5;28;43mnext\u001b[39;49m\u001b[43m(\u001b[49m\u001b[38;5;28;43mself\u001b[39;49m\u001b[43m)\u001b[49m\n\u001b[1;32m    129\u001b[0m     \u001b[38;5;28;01mexcept\u001b[39;00m \u001b[38;5;167;01mStopIteration\u001b[39;00m:\n\u001b[1;32m    130\u001b[0m         logger\u001b[38;5;241m.\u001b[39minfo(\u001b[38;5;124m\"\u001b[39m\u001b[38;5;124mno data to export\u001b[39m\u001b[38;5;124m\"\u001b[39m)\n",
      "File \u001b[0;32m/Library/Frameworks/Python.framework/Versions/3.10/lib/python3.10/site-packages/coinmetrics/_data_collection.py:80\u001b[0m, in \u001b[0;36mDataCollection.__next__\u001b[0;34m(self)\u001b[0m\n\u001b[1;32m     78\u001b[0m \u001b[38;5;28;01mif\u001b[39;00m \u001b[38;5;28mself\u001b[39m\u001b[38;5;241m.\u001b[39m_next_page_token:\n\u001b[1;32m     79\u001b[0m     url_params[\u001b[38;5;124m\"\u001b[39m\u001b[38;5;124mnext_page_token\u001b[39m\u001b[38;5;124m\"\u001b[39m] \u001b[38;5;241m=\u001b[39m \u001b[38;5;28mself\u001b[39m\u001b[38;5;241m.\u001b[39m_next_page_token\n\u001b[0;32m---> 80\u001b[0m api_response \u001b[38;5;241m=\u001b[39m \u001b[38;5;28;43mself\u001b[39;49m\u001b[38;5;241;43m.\u001b[39;49m\u001b[43m_data_retrieval_function\u001b[49m\u001b[43m(\u001b[49m\u001b[38;5;28;43mself\u001b[39;49m\u001b[38;5;241;43m.\u001b[39;49m\u001b[43m_endpoint\u001b[49m\u001b[43m,\u001b[49m\u001b[43m \u001b[49m\u001b[43murl_params\u001b[49m\u001b[43m)\u001b[49m\n\u001b[1;32m     81\u001b[0m \u001b[38;5;28mself\u001b[39m\u001b[38;5;241m.\u001b[39m_next_page_token \u001b[38;5;241m=\u001b[39m cast(Optional[\u001b[38;5;28mstr\u001b[39m], api_response\u001b[38;5;241m.\u001b[39mget(\u001b[38;5;124m\"\u001b[39m\u001b[38;5;124mnext_page_token\u001b[39m\u001b[38;5;124m\"\u001b[39m))\n\u001b[1;32m     82\u001b[0m \u001b[38;5;28mself\u001b[39m\u001b[38;5;241m.\u001b[39m_current_data_iterator \u001b[38;5;241m=\u001b[39m \u001b[38;5;28miter\u001b[39m(api_response[\u001b[38;5;124m\"\u001b[39m\u001b[38;5;124mdata\u001b[39m\u001b[38;5;124m\"\u001b[39m])\n",
      "File \u001b[0;32m/Library/Frameworks/Python.framework/Versions/3.10/lib/python3.10/site-packages/coinmetrics/api_client.py:3724\u001b[0m, in \u001b[0;36mCoinMetricsClient._get_data\u001b[0;34m(self, url, params)\u001b[0m\n\u001b[1;32m   3719\u001b[0m     error_msg \u001b[38;5;241m=\u001b[39m (\n\u001b[1;32m   3720\u001b[0m         \u001b[38;5;124mf\u001b[39m\u001b[38;5;124m\"\u001b[39m\u001b[38;5;124mError found for the query: \u001b[39m\u001b[38;5;130;01m\\n\u001b[39;00m\u001b[38;5;124m \u001b[39m\u001b[38;5;132;01m{\u001b[39;00mactual_url\u001b[38;5;132;01m}\u001b[39;00m\u001b[38;5;130;01m\\n\u001b[39;00m\u001b[38;5;124m\"\u001b[39m\n\u001b[1;32m   3721\u001b[0m         \u001b[38;5;124mf\u001b[39m\u001b[38;5;124m\"\u001b[39m\u001b[38;5;124mError details: \u001b[39m\u001b[38;5;132;01m{\u001b[39;00mdata[\u001b[38;5;124m'\u001b[39m\u001b[38;5;124merror\u001b[39m\u001b[38;5;124m'\u001b[39m]\u001b[38;5;132;01m}\u001b[39;00m\u001b[38;5;124m\"\u001b[39m\n\u001b[1;32m   3722\u001b[0m     )\n\u001b[1;32m   3723\u001b[0m     logger\u001b[38;5;241m.\u001b[39merror(error_msg)\n\u001b[0;32m-> 3724\u001b[0m     \u001b[43mresp\u001b[49m\u001b[38;5;241;43m.\u001b[39;49m\u001b[43mraise_for_status\u001b[49m\u001b[43m(\u001b[49m\u001b[43m)\u001b[49m\n\u001b[1;32m   3725\u001b[0m \u001b[38;5;28;01mreturn\u001b[39;00m cast(DataReturnType, data)\n",
      "File \u001b[0;32m/Library/Frameworks/Python.framework/Versions/3.10/lib/python3.10/site-packages/requests/models.py:960\u001b[0m, in \u001b[0;36mResponse.raise_for_status\u001b[0;34m(self)\u001b[0m\n\u001b[1;32m    957\u001b[0m     http_error_msg \u001b[38;5;241m=\u001b[39m \u001b[38;5;124mu\u001b[39m\u001b[38;5;124m'\u001b[39m\u001b[38;5;132;01m%s\u001b[39;00m\u001b[38;5;124m Server Error: \u001b[39m\u001b[38;5;132;01m%s\u001b[39;00m\u001b[38;5;124m for url: \u001b[39m\u001b[38;5;132;01m%s\u001b[39;00m\u001b[38;5;124m'\u001b[39m \u001b[38;5;241m%\u001b[39m (\u001b[38;5;28mself\u001b[39m\u001b[38;5;241m.\u001b[39mstatus_code, reason, \u001b[38;5;28mself\u001b[39m\u001b[38;5;241m.\u001b[39murl)\n\u001b[1;32m    959\u001b[0m \u001b[38;5;28;01mif\u001b[39;00m http_error_msg:\n\u001b[0;32m--> 960\u001b[0m     \u001b[38;5;28;01mraise\u001b[39;00m HTTPError(http_error_msg, response\u001b[38;5;241m=\u001b[39m\u001b[38;5;28mself\u001b[39m)\n",
      "\u001b[0;31mHTTPError\u001b[0m: 400 Client Error: Bad Request for url: https://api.coinmetrics.io/v4/timeseries/asset-metrics?api_key=INSERT_KEY&assets=sol&metrics=CapMrktEstUSD&frequency=1m&paging_from=start&start_time=2021-09-12&end_time=2021-09-16"
     ]
    }
   ],
   "source": [
    "# https://jumpcrypto.com/reflections-on-the-sept-14-solana-outage/\n",
    "\n",
    "from datetime import datetime, timedelta\n",
    "\n",
    "df3 = client.get_asset_metrics(\n",
    "    assets = assets,\n",
    "    metrics = ['CapMrktEstUSD'],\n",
    "    start_time = '2021-09-12',\n",
    "    end_time = '2021-09-16',\n",
    "    frequency='1m'\n",
    ").to_dataframe()"
   ]
  },
  {
   "cell_type": "code",
   "execution_count": null,
   "id": "96ee79a8-f699-4f9d-9049-ec172300f06d",
   "metadata": {},
   "outputs": [],
   "source": []
  }
 ],
 "metadata": {
  "kernelspec": {
   "display_name": "Python 3 (ipykernel)",
   "language": "python",
   "name": "python3"
  },
  "language_info": {
   "codemirror_mode": {
    "name": "ipython",
    "version": 3
   },
   "file_extension": ".py",
   "mimetype": "text/x-python",
   "name": "python",
   "nbconvert_exporter": "python",
   "pygments_lexer": "ipython3",
   "version": "3.10.2"
  }
 },
 "nbformat": 4,
 "nbformat_minor": 5
}
