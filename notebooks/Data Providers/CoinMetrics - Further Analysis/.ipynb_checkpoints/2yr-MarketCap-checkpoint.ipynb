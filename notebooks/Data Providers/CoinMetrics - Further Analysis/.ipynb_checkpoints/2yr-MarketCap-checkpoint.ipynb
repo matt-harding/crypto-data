{
 "cells": [
  {
   "cell_type": "code",
   "execution_count": 1,
   "id": "aae30e1f-e34c-4ef7-8480-73b20f836383",
   "metadata": {},
   "outputs": [
    {
     "name": "stdout",
     "output_type": "stream",
     "text": [
      "Requirement already satisfied: coinmetrics-api-client in /Library/Frameworks/Python.framework/Versions/3.10/lib/python3.10/site-packages (2022.11.14.16)\n",
      "Requirement already satisfied: typer<0.7.0,>=0.6.1 in /Library/Frameworks/Python.framework/Versions/3.10/lib/python3.10/site-packages (from coinmetrics-api-client) (0.6.1)\n",
      "Requirement already satisfied: python-dateutil<3.0.0,>=2.8.2 in /Library/Frameworks/Python.framework/Versions/3.10/lib/python3.10/site-packages (from coinmetrics-api-client) (2.8.2)\n",
      "Requirement already satisfied: requests<3.0.0,>=2.24.0 in /Library/Frameworks/Python.framework/Versions/3.10/lib/python3.10/site-packages (from coinmetrics-api-client) (2.27.1)\n",
      "Requirement already satisfied: orjson<4.0.0,>=3.6.0 in /Library/Frameworks/Python.framework/Versions/3.10/lib/python3.10/site-packages (from coinmetrics-api-client) (3.8.2)\n",
      "Requirement already satisfied: websocket-client<2.0.0,>=1.2.1 in /Library/Frameworks/Python.framework/Versions/3.10/lib/python3.10/site-packages (from coinmetrics-api-client) (1.3.1)\n",
      "Requirement already satisfied: six>=1.5 in /Library/Frameworks/Python.framework/Versions/3.10/lib/python3.10/site-packages (from python-dateutil<3.0.0,>=2.8.2->coinmetrics-api-client) (1.16.0)\n",
      "Requirement already satisfied: charset-normalizer~=2.0.0 in /Library/Frameworks/Python.framework/Versions/3.10/lib/python3.10/site-packages (from requests<3.0.0,>=2.24.0->coinmetrics-api-client) (2.0.12)\n",
      "Requirement already satisfied: urllib3<1.27,>=1.21.1 in /Library/Frameworks/Python.framework/Versions/3.10/lib/python3.10/site-packages (from requests<3.0.0,>=2.24.0->coinmetrics-api-client) (1.26.8)\n",
      "Requirement already satisfied: certifi>=2017.4.17 in /Library/Frameworks/Python.framework/Versions/3.10/lib/python3.10/site-packages (from requests<3.0.0,>=2.24.0->coinmetrics-api-client) (2021.10.8)\n",
      "Requirement already satisfied: idna<4,>=2.5 in /Library/Frameworks/Python.framework/Versions/3.10/lib/python3.10/site-packages (from requests<3.0.0,>=2.24.0->coinmetrics-api-client) (2.10)\n",
      "Requirement already satisfied: click<9.0.0,>=7.1.1 in /Library/Frameworks/Python.framework/Versions/3.10/lib/python3.10/site-packages (from typer<0.7.0,>=0.6.1->coinmetrics-api-client) (8.0.4)\n",
      "\u001b[33mWARNING: You are using pip version 21.2.4; however, version 22.3.1 is available.\n",
      "You should consider upgrading via the '/Library/Frameworks/Python.framework/Versions/3.10/bin/python3.10 -m pip install --upgrade pip' command.\u001b[0m\n"
     ]
    }
   ],
   "source": [
    "!pip3 install -U coinmetrics-api-client"
   ]
  },
  {
   "cell_type": "code",
   "execution_count": 2,
   "id": "08a55d87-c431-4d15-a987-e25410002a19",
   "metadata": {},
   "outputs": [
    {
     "name": "stdout",
     "output_type": "stream",
     "text": [
      "Requirement already satisfied: seaborn in /Library/Frameworks/Python.framework/Versions/3.10/lib/python3.10/site-packages (0.12.1)\n",
      "Requirement already satisfied: numpy>=1.17 in /Library/Frameworks/Python.framework/Versions/3.10/lib/python3.10/site-packages (from seaborn) (1.21.2)\n",
      "Requirement already satisfied: pandas>=0.25 in /Library/Frameworks/Python.framework/Versions/3.10/lib/python3.10/site-packages (from seaborn) (1.3.4)\n",
      "Requirement already satisfied: matplotlib!=3.6.1,>=3.1 in /Library/Frameworks/Python.framework/Versions/3.10/lib/python3.10/site-packages (from seaborn) (3.6.2)\n",
      "Requirement already satisfied: kiwisolver>=1.0.1 in /Library/Frameworks/Python.framework/Versions/3.10/lib/python3.10/site-packages (from matplotlib!=3.6.1,>=3.1->seaborn) (1.4.2)\n",
      "Requirement already satisfied: packaging>=20.0 in /Library/Frameworks/Python.framework/Versions/3.10/lib/python3.10/site-packages (from matplotlib!=3.6.1,>=3.1->seaborn) (21.3)\n",
      "Requirement already satisfied: cycler>=0.10 in /Library/Frameworks/Python.framework/Versions/3.10/lib/python3.10/site-packages (from matplotlib!=3.6.1,>=3.1->seaborn) (0.11.0)\n",
      "Requirement already satisfied: pillow>=6.2.0 in /Library/Frameworks/Python.framework/Versions/3.10/lib/python3.10/site-packages (from matplotlib!=3.6.1,>=3.1->seaborn) (9.0.1)\n",
      "Requirement already satisfied: python-dateutil>=2.7 in /Library/Frameworks/Python.framework/Versions/3.10/lib/python3.10/site-packages (from matplotlib!=3.6.1,>=3.1->seaborn) (2.8.2)\n",
      "Requirement already satisfied: fonttools>=4.22.0 in /Library/Frameworks/Python.framework/Versions/3.10/lib/python3.10/site-packages (from matplotlib!=3.6.1,>=3.1->seaborn) (4.38.0)\n",
      "Requirement already satisfied: contourpy>=1.0.1 in /Library/Frameworks/Python.framework/Versions/3.10/lib/python3.10/site-packages (from matplotlib!=3.6.1,>=3.1->seaborn) (1.0.6)\n",
      "Requirement already satisfied: pyparsing>=2.2.1 in /Library/Frameworks/Python.framework/Versions/3.10/lib/python3.10/site-packages (from matplotlib!=3.6.1,>=3.1->seaborn) (3.0.7)\n",
      "Requirement already satisfied: pytz>=2017.3 in /Library/Frameworks/Python.framework/Versions/3.10/lib/python3.10/site-packages (from pandas>=0.25->seaborn) (2021.3)\n",
      "Requirement already satisfied: six>=1.5 in /Library/Frameworks/Python.framework/Versions/3.10/lib/python3.10/site-packages (from python-dateutil>=2.7->matplotlib!=3.6.1,>=3.1->seaborn) (1.16.0)\n",
      "\u001b[33mWARNING: You are using pip version 21.2.4; however, version 22.3.1 is available.\n",
      "You should consider upgrading via the '/Library/Frameworks/Python.framework/Versions/3.10/bin/python3.10 -m pip install --upgrade pip' command.\u001b[0m\n"
     ]
    }
   ],
   "source": [
    "!pip3 install seaborn"
   ]
  },
  {
   "cell_type": "code",
   "execution_count": 3,
   "id": "2fd8eb05-46e7-4207-b478-b601250f81f9",
   "metadata": {},
   "outputs": [],
   "source": [
    "# https://pypi.org/project/coinmetrics-api-client/\n",
    "from coinmetrics.api_client import CoinMetricsClient\n",
    "\n",
    "API_KEY = 'INSERT HERE'\n",
    "\n",
    "# Community API:\n",
    "client = CoinMetricsClient(API_KEY)"
   ]
  },
  {
   "cell_type": "code",
   "execution_count": 5,
   "id": "2a02423a-3239-45ce-8e35-982e2ed08480",
   "metadata": {},
   "outputs": [
    {
     "data": {
      "text/plain": [
       "3019"
      ]
     },
     "execution_count": 5,
     "metadata": {},
     "output_type": "execute_result"
    }
   ],
   "source": [
    "# This is how we get all asset ids CoinMetrics supports\n",
    "df = client.catalog_assets()\n",
    "all_assets = []\n",
    "for asset in df:\n",
    "    all_assets.append(asset['asset'])\n",
    "    \n",
    "len(all_assets)  "
   ]
  },
  {
   "cell_type": "code",
   "execution_count": 25,
   "id": "655d72ed-7d14-4f3a-bb82-23c00a396bef",
   "metadata": {},
   "outputs": [
    {
     "data": {
      "text/plain": [
       "dict_keys(['usdt', 'usdc', 'busd', 'dai', 'gusd', 'snx'])"
      ]
     },
     "execution_count": 25,
     "metadata": {},
     "output_type": "execute_result"
    }
   ],
   "source": [
    "from dataclasses import dataclass\n",
    "\n",
    "@dataclass\n",
    "class StableCoin:\n",
    "    \"\"\"Class for condensing exchange data to just the props we care about\"\"\"\n",
    "    data_provider: str = ''\n",
    "    symbol: str = ''\n",
    "    name: str = ''\n",
    "    market_cap: float = 0\n",
    "    circulating_supply: float = 0\n",
    "    total_supply: float = 0\n",
    "    twentyfourhour_volume: float = 0\n",
    "    price: float = 0\n",
    "    last_updated: str = ''\n",
    "\n",
    "metrics = ['CapMrktCurUSD']\n",
    "assets = {\n",
    "            'usdt': StableCoin(symbol='USDT', name='Tether', data_provider='CoinMetrics'),\n",
    "            'usdc': StableCoin(symbol='USDC', name='USD Coin', data_provider='CoinMetrics'),\n",
    "            'busd': StableCoin(symbol='BUSD', name='Binance USD', data_provider='CoinMetrics'),\n",
    "            'dai': StableCoin(symbol='DAI', name='Dai', data_provider='CoinMetrics'),\n",
    "            #'frax': StableCoin(symbol='FRAX', name='FRAX', data_provider='CoinMetrics'),\n",
    "            #'xdb': StableCoin(symbol='XDB', name='DigitalBits', data_provider='CoinMetrics'),\n",
    "            #'usdp': StableCoin(symbol='USDP', name='Pax Dollar', data_provider='CoinMetrics'),\n",
    "            'gusd': StableCoin(symbol='GUSD', name='Gemini Dollar', data_provider='CoinMetrics'),\n",
    "            #'tusd': StableCoin(symbol='TUSD', name='TrueUSD', data_provider='CoinMetrics'),\n",
    "            #'fxs': StableCoin(symbol='FXS', name='Frax Share', data_provider='CoinMetrics'),\n",
    "            #'ust': StableCoin(symbol='UST', name='TerraUSD', data_provider='CoinMetrics'),\n",
    "            # 'eurs': StableCoin(symbol='EURS', name='Stasis Euro', data_provider='CoinMetrics'),\n",
    "            #'usdn': StableCoin(symbol='USDN', name='Neutrino Dollar', data_provider='CoinMetrics'),\n",
    "            # 'fei': StableCoin(symbol='FEI', name='Fei USD', data_provider='CoinMetrics'),\n",
    "            'snx': StableCoin(symbol='SNX', name='Synthetix USD', data_provider='CoinMetrics'),\n",
    "            #'cusd': StableCoin(symbol='CUSDT', name='Celo Dollar', data_provider='CoinMetrics'),\n",
    "            #'sbd_steemdollars': StableCoin(symbol='SBD', name='Steem Dollars', data_provider='CoinMetrics'),\n",
    "            #'spa': StableCoin(symbol='SPA', name='Sperax', data_provider='CoinMetrics'),\n",
    "            #'digg': StableCoin(symbol='DIGG', name='DIGG', data_provider='CoinMetrics'),\n",
    "            #'esd': StableCoin(symbol='ESD', name='Empty Set Dollar', data_provider='CoinMetrics'),\n",
    "            #'dsd': StableCoin(symbol='DSD', name='Dynamic Set Dollar', data_provider='CoinMetrics'),\n",
    "        }\n",
    "\n",
    "assets.keys()"
   ]
  },
  {
   "cell_type": "code",
   "execution_count": 29,
   "id": "88a7b140-4294-44bd-9b5f-5d191fecf176",
   "metadata": {},
   "outputs": [
    {
     "name": "stdout",
     "output_type": "stream",
     "text": [
      "usdt\n",
      "usdc\n",
      "busd\n",
      "dai\n",
      "gusd\n",
      "snx\n"
     ]
    }
   ],
   "source": [
    "import pandas as pd\n",
    "\n",
    "all_df = []\n",
    "\n",
    "for asset in list(assets.keys()):\n",
    "    print(asset)\n",
    "    df = client.get_asset_metrics(\n",
    "            assets = asset,\n",
    "            metrics = metrics,\n",
    "            start_time = '2021-01-01',\n",
    "            end_time = '2022-12-01',\n",
    "            frequency='1d'\n",
    "        ).to_dataframe()\n",
    "    \n",
    "    all_df.append(df)"
   ]
  },
  {
   "cell_type": "code",
   "execution_count": 30,
   "id": "f9f718c5-96d7-4edd-b051-b989c317754a",
   "metadata": {},
   "outputs": [],
   "source": [
    "df = pd.concat(all_df)"
   ]
  },
  {
   "cell_type": "code",
   "execution_count": 34,
   "id": "8a0c633f-e615-488d-a041-087cc1052529",
   "metadata": {},
   "outputs": [],
   "source": [
    "# Remove timezone from DataFrame for excel export\n",
    "df['time'] = df['time'].dt.tz_localize(None)\n",
    "\n",
    "df.to_excel('StableCoin1DMarketCapUSD.xlsx')"
   ]
  },
  {
   "cell_type": "code",
   "execution_count": 33,
   "id": "cf967a2b-6bbb-4b3f-a48d-7688ecc05e62",
   "metadata": {},
   "outputs": [
    {
     "data": {
      "text/html": [
       "<div>\n",
       "<style scoped>\n",
       "    .dataframe tbody tr th:only-of-type {\n",
       "        vertical-align: middle;\n",
       "    }\n",
       "\n",
       "    .dataframe tbody tr th {\n",
       "        vertical-align: top;\n",
       "    }\n",
       "\n",
       "    .dataframe thead th {\n",
       "        text-align: right;\n",
       "    }\n",
       "</style>\n",
       "<table border=\"1\" class=\"dataframe\">\n",
       "  <thead>\n",
       "    <tr style=\"text-align: right;\">\n",
       "      <th></th>\n",
       "      <th>asset</th>\n",
       "      <th>time</th>\n",
       "      <th>CapMrktCurUSD</th>\n",
       "    </tr>\n",
       "  </thead>\n",
       "  <tbody>\n",
       "    <tr>\n",
       "      <th>0</th>\n",
       "      <td>usdt</td>\n",
       "      <td>2021-01-01 00:00:00+00:00</td>\n",
       "      <td>1338151579.208069</td>\n",
       "    </tr>\n",
       "    <tr>\n",
       "      <th>1</th>\n",
       "      <td>usdt</td>\n",
       "      <td>2021-01-02 00:00:00+00:00</td>\n",
       "      <td>1336060634.482758</td>\n",
       "    </tr>\n",
       "    <tr>\n",
       "      <th>2</th>\n",
       "      <td>usdt</td>\n",
       "      <td>2021-01-03 00:00:00+00:00</td>\n",
       "      <td>1336835575.844539</td>\n",
       "    </tr>\n",
       "    <tr>\n",
       "      <th>3</th>\n",
       "      <td>usdt</td>\n",
       "      <td>2021-01-04 00:00:00+00:00</td>\n",
       "      <td>1336052616.065943</td>\n",
       "    </tr>\n",
       "    <tr>\n",
       "      <th>4</th>\n",
       "      <td>usdt</td>\n",
       "      <td>2021-01-05 00:00:00+00:00</td>\n",
       "      <td>1338933849.41555</td>\n",
       "    </tr>\n",
       "    <tr>\n",
       "      <th>...</th>\n",
       "      <td>...</td>\n",
       "      <td>...</td>\n",
       "      <td>...</td>\n",
       "    </tr>\n",
       "    <tr>\n",
       "      <th>695</th>\n",
       "      <td>snx</td>\n",
       "      <td>2022-11-27 00:00:00+00:00</td>\n",
       "      <td>517082380.249742</td>\n",
       "    </tr>\n",
       "    <tr>\n",
       "      <th>696</th>\n",
       "      <td>snx</td>\n",
       "      <td>2022-11-28 00:00:00+00:00</td>\n",
       "      <td>513611731.324142</td>\n",
       "    </tr>\n",
       "    <tr>\n",
       "      <th>697</th>\n",
       "      <td>snx</td>\n",
       "      <td>2022-11-29 00:00:00+00:00</td>\n",
       "      <td>508266973.514164</td>\n",
       "    </tr>\n",
       "    <tr>\n",
       "      <th>698</th>\n",
       "      <td>snx</td>\n",
       "      <td>2022-11-30 00:00:00+00:00</td>\n",
       "      <td>537661467.854579</td>\n",
       "    </tr>\n",
       "    <tr>\n",
       "      <th>699</th>\n",
       "      <td>snx</td>\n",
       "      <td>2022-12-01 00:00:00+00:00</td>\n",
       "      <td>533374100.327475</td>\n",
       "    </tr>\n",
       "  </tbody>\n",
       "</table>\n",
       "<p>4200 rows × 3 columns</p>\n",
       "</div>"
      ],
      "text/plain": [
       "    asset                      time      CapMrktCurUSD\n",
       "0    usdt 2021-01-01 00:00:00+00:00  1338151579.208069\n",
       "1    usdt 2021-01-02 00:00:00+00:00  1336060634.482758\n",
       "2    usdt 2021-01-03 00:00:00+00:00  1336835575.844539\n",
       "3    usdt 2021-01-04 00:00:00+00:00  1336052616.065943\n",
       "4    usdt 2021-01-05 00:00:00+00:00   1338933849.41555\n",
       "..    ...                       ...                ...\n",
       "695   snx 2022-11-27 00:00:00+00:00   517082380.249742\n",
       "696   snx 2022-11-28 00:00:00+00:00   513611731.324142\n",
       "697   snx 2022-11-29 00:00:00+00:00   508266973.514164\n",
       "698   snx 2022-11-30 00:00:00+00:00   537661467.854579\n",
       "699   snx 2022-12-01 00:00:00+00:00   533374100.327475\n",
       "\n",
       "[4200 rows x 3 columns]"
      ]
     },
     "execution_count": 33,
     "metadata": {},
     "output_type": "execute_result"
    }
   ],
   "source": [
    "df"
   ]
  },
  {
   "cell_type": "code",
   "execution_count": 37,
   "id": "078f1b99-5249-43ce-8f66-b2443ff89332",
   "metadata": {},
   "outputs": [
    {
     "data": {
      "text/plain": [
       "<seaborn.axisgrid.FacetGrid at 0x115ad9ba0>"
      ]
     },
     "execution_count": 37,
     "metadata": {},
     "output_type": "execute_result"
    },
    {
     "data": {
      "image/png": "[encoded data removed]",
      "text/plain": [
       "<Figure size 360x360 with 1 Axes>"
      ]
     },
     "metadata": {},
     "output_type": "display_data"
    }
   ],
   "source": [
    "import seaborn as sns\n",
    "\n",
    "# Apply the default theme\n",
    "sns.set_theme()\n",
    "\n",
    "sns.relplot(\n",
    "    data=df, kind=\"line\",\n",
    "    x=\"time\", y=\"CapMrktCurUSD\", legend='auto'\n",
    ")"
   ]
  },
  {
   "cell_type": "code",
   "execution_count": null,
   "id": "2e03a83a-8d66-4051-8425-fca9128ad2b5",
   "metadata": {},
   "outputs": [],
   "source": []
  }
 ],
 "metadata": {
  "kernelspec": {
   "display_name": "Python 3 (ipykernel)",
   "language": "python",
   "name": "python3"
  },
  "language_info": {
   "codemirror_mode": {
    "name": "ipython",
    "version": 3
   },
   "file_extension": ".py",
   "mimetype": "text/x-python",
   "name": "python",
   "nbconvert_exporter": "python",
   "pygments_lexer": "ipython3",
   "version": "3.10.2"
  }
 },
 "nbformat": 4,
 "nbformat_minor": 5
}
