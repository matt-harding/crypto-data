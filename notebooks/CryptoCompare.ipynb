{
 "cells": [
  {
   "cell_type": "code",
   "execution_count": 68,
   "id": "aecdf955-5504-4bfd-bdb8-9a2c27db7f22",
   "metadata": {},
   "outputs": [],
   "source": [
    "'''\n",
    "    Free API powered by IntoTheBlock (https://www.intotheblock.com)\n",
    "    API Key required with limit of 100,000 calls per month\n",
    "'''\n",
    "\n",
    "api_key = 'INSERT HERE'"
   ]
  },
  {
   "cell_type": "code",
   "execution_count": 69,
   "id": "80db4492-41ee-4c66-b86a-62d0301e3fa5",
   "metadata": {},
   "outputs": [],
   "source": [
    "from dataclasses import dataclass\n",
    "\n",
    "@dataclass\n",
    "class StableCoin:\n",
    "    \"\"\"Class for condensing exchange data to just the props we care about\"\"\"\n",
    "    id: str = ''\n",
    "    symbol: str = ''\n",
    "    name: str = ''\n",
    "    market_cap: float = 0\n",
    "    circulating_supply: float = 0\n",
    "    total_supply: float = 0\n",
    "    twentyfourhour_volume: float = 0\n",
    "    price: float = 0\n",
    "    last_updated: str = ''"
   ]
  },
  {
   "cell_type": "code",
   "execution_count": 70,
   "id": "afbc817c-7719-4bf7-af02-b814bc8cab64",
   "metadata": {},
   "outputs": [],
   "source": [
    "coin_symbols = ['TUSD','USDC','BUSD','DAI','TUSD','GUSD']"
   ]
  },
  {
   "cell_type": "code",
   "execution_count": 71,
   "id": "ac3abbd7-623f-485e-a57c-15ec8afccd65",
   "metadata": {},
   "outputs": [],
   "source": [
    "import requests"
   ]
  },
  {
   "cell_type": "code",
   "execution_count": 72,
   "id": "2c607837-9d6e-43c5-ba90-9ebe6d1064c5",
   "metadata": {},
   "outputs": [],
   "source": [
    "\"\"\"\n",
    "    Get all the current trading info (price, vol, open, high, low etc) of any list of cryptocurrencies in any other currency that you need. \n",
    "    If the crypto does not trade directly into the toSymbol requested, BTC will be used for conversion.\n",
    "    This API also returns Display values for all the fields. If the opposite pair trades we invert it (eg.: BTC-XMR)\n",
    "    \n",
    "    https://min-api.cryptocompare.com/documentation?key=Price&cat=multipleSymbolsFullPriceEndpoint\n",
    "\"\"\"\n",
    "def get_latest_price_data():\n",
    "    url = \"https://min-api.cryptocompare.com/data/pricemultifull\"\n",
    "\n",
    "    querystring = {\"fsyms\":','.join(coin_symbols),\"tsyms\":'usd',\"api_key\":api_key}\n",
    "\n",
    "    response = requests.request(\"GET\", url, params=querystring)\n",
    "\n",
    "    return response"
   ]
  },
  {
   "cell_type": "code",
   "execution_count": 76,
   "id": "ba97fda5-68e3-495b-bc8b-704b358fab2c",
   "metadata": {},
   "outputs": [],
   "source": [
    "data = get_latest_price_data().json()\n",
    "coins = []\n",
    "\n",
    "for coin_symbol in coin_symbols:\n",
    "    stablecoin = StableCoin()\n",
    "    stablecoin.id = data['RAW'][coin_symbol]['USD']['FROMSYMBOL']\n",
    "    stablecoin.symbol = data['RAW'][coin_symbol]['USD']['FROMSYMBOL']\n",
    "    stablecoin.market_cap = data['RAW'][coin_symbol]['USD']['MKTCAP']\n",
    "    stablecoin.circulating_supply = data['RAW'][coin_symbol]['USD']['CIRCULATINGSUPPLY']\n",
    "    stablecoin.total_supply = data['RAW'][coin_symbol]['USD']['SUPPLY']\n",
    "    stablecoin.twentyfourhour_volume = data['RAW'][coin_symbol]['USD']['TOTALVOLUME24H']\n",
    "    stablecoin.price = data['RAW'][coin_symbol]['USD']['PRICE']\n",
    "    stablecoin.last_updated = data['RAW'][coin_symbol]['USD']['LASTUPDATE']\n",
    "    coins.append(stablecoin)"
   ]
  },
  {
   "cell_type": "code",
   "execution_count": 77,
   "id": "38d53973-0e0e-4188-9fa1-2aa76fb8ca6a",
   "metadata": {},
   "outputs": [
    {
     "data": {
      "text/html": [
       "<div>\n",
       "<style scoped>\n",
       "    .dataframe tbody tr th:only-of-type {\n",
       "        vertical-align: middle;\n",
       "    }\n",
       "\n",
       "    .dataframe tbody tr th {\n",
       "        vertical-align: top;\n",
       "    }\n",
       "\n",
       "    .dataframe thead th {\n",
       "        text-align: right;\n",
       "    }\n",
       "</style>\n",
       "<table border=\"1\" class=\"dataframe\">\n",
       "  <thead>\n",
       "    <tr style=\"text-align: right;\">\n",
       "      <th></th>\n",
       "      <th>id</th>\n",
       "      <th>symbol</th>\n",
       "      <th>name</th>\n",
       "      <th>market_cap</th>\n",
       "      <th>circulating_supply</th>\n",
       "      <th>total_supply</th>\n",
       "      <th>twentyfourhour_volume</th>\n",
       "      <th>price</th>\n",
       "      <th>last_updated</th>\n",
       "    </tr>\n",
       "  </thead>\n",
       "  <tbody>\n",
       "    <tr>\n",
       "      <th>0</th>\n",
       "      <td>TUSD</td>\n",
       "      <td>TUSD</td>\n",
       "      <td></td>\n",
       "      <td>1.238837e+09</td>\n",
       "      <td>1.210891e+09</td>\n",
       "      <td>1.210891e+09</td>\n",
       "      <td>4.157144e+06</td>\n",
       "      <td>1.023078</td>\n",
       "      <td>1668875954</td>\n",
       "    </tr>\n",
       "    <tr>\n",
       "      <th>1</th>\n",
       "      <td>USDC</td>\n",
       "      <td>USDC</td>\n",
       "      <td></td>\n",
       "      <td>4.438947e+10</td>\n",
       "      <td>4.438947e+10</td>\n",
       "      <td>4.438947e+10</td>\n",
       "      <td>5.564386e+07</td>\n",
       "      <td>1.000000</td>\n",
       "      <td>1668875770</td>\n",
       "    </tr>\n",
       "    <tr>\n",
       "      <th>2</th>\n",
       "      <td>BUSD</td>\n",
       "      <td>BUSD</td>\n",
       "      <td></td>\n",
       "      <td>2.287440e+10</td>\n",
       "      <td>2.287213e+10</td>\n",
       "      <td>2.287213e+10</td>\n",
       "      <td>5.323561e+08</td>\n",
       "      <td>1.000099</td>\n",
       "      <td>1668875956</td>\n",
       "    </tr>\n",
       "    <tr>\n",
       "      <th>3</th>\n",
       "      <td>DAI</td>\n",
       "      <td>DAI</td>\n",
       "      <td></td>\n",
       "      <td>5.430216e+09</td>\n",
       "      <td>5.431363e+09</td>\n",
       "      <td>5.431303e+09</td>\n",
       "      <td>1.173848e+07</td>\n",
       "      <td>0.999800</td>\n",
       "      <td>1668875957</td>\n",
       "    </tr>\n",
       "    <tr>\n",
       "      <th>4</th>\n",
       "      <td>TUSD</td>\n",
       "      <td>TUSD</td>\n",
       "      <td></td>\n",
       "      <td>1.238837e+09</td>\n",
       "      <td>1.210891e+09</td>\n",
       "      <td>1.210891e+09</td>\n",
       "      <td>4.157144e+06</td>\n",
       "      <td>1.023078</td>\n",
       "      <td>1668875954</td>\n",
       "    </tr>\n",
       "    <tr>\n",
       "      <th>5</th>\n",
       "      <td>GUSD</td>\n",
       "      <td>GUSD</td>\n",
       "      <td></td>\n",
       "      <td>6.176753e+08</td>\n",
       "      <td>0.000000e+00</td>\n",
       "      <td>6.176753e+08</td>\n",
       "      <td>8.819817e+04</td>\n",
       "      <td>1.000000</td>\n",
       "      <td>1668875310</td>\n",
       "    </tr>\n",
       "  </tbody>\n",
       "</table>\n",
       "</div>"
      ],
      "text/plain": [
       "     id symbol name    market_cap  circulating_supply  total_supply  \\\n",
       "0  TUSD   TUSD       1.238837e+09        1.210891e+09  1.210891e+09   \n",
       "1  USDC   USDC       4.438947e+10        4.438947e+10  4.438947e+10   \n",
       "2  BUSD   BUSD       2.287440e+10        2.287213e+10  2.287213e+10   \n",
       "3   DAI    DAI       5.430216e+09        5.431363e+09  5.431303e+09   \n",
       "4  TUSD   TUSD       1.238837e+09        1.210891e+09  1.210891e+09   \n",
       "5  GUSD   GUSD       6.176753e+08        0.000000e+00  6.176753e+08   \n",
       "\n",
       "   twentyfourhour_volume     price  last_updated  \n",
       "0           4.157144e+06  1.023078    1668875954  \n",
       "1           5.564386e+07  1.000000    1668875770  \n",
       "2           5.323561e+08  1.000099    1668875956  \n",
       "3           1.173848e+07  0.999800    1668875957  \n",
       "4           4.157144e+06  1.023078    1668875954  \n",
       "5           8.819817e+04  1.000000    1668875310  "
      ]
     },
     "execution_count": 77,
     "metadata": {},
     "output_type": "execute_result"
    }
   ],
   "source": [
    "import pandas as pd\n",
    "\n",
    "df = pd.DataFrame(coins)\n",
    "\n",
    "df"
   ]
  },
  {
   "cell_type": "code",
   "execution_count": null,
   "id": "d36d0c18-96f5-47c7-863f-cf074ceb27cf",
   "metadata": {},
   "outputs": [],
   "source": []
  }
 ],
 "metadata": {
  "kernelspec": {
   "display_name": "Python 3.10.2 64-bit",
   "language": "python",
   "name": "python3"
  },
  "language_info": {
   "codemirror_mode": {
    "name": "ipython",
    "version": 3
   },
   "file_extension": ".py",
   "mimetype": "text/x-python",
   "name": "python",
   "nbconvert_exporter": "python",
   "pygments_lexer": "ipython3",
   "version": "3.10.2"
  },
  "vscode": {
   "interpreter": {
    "hash": "aee8b7b246df8f9039afb4144a1f6fd8d2ca17a180786b69acc140d282b71a49"
   }
  }
 },
 "nbformat": 4,
 "nbformat_minor": 5
}
