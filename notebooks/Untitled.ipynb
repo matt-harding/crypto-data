{
 "cells": [
  {
   "cell_type": "code",
   "execution_count": 33,
   "id": "0ecb01c4-1a89-481c-b9fd-f2d58985cc02",
   "metadata": {},
   "outputs": [],
   "source": [
    "import pandas as pd\n",
    "from dataclasses import dataclass"
   ]
  },
  {
   "cell_type": "code",
   "execution_count": 34,
   "id": "734254d0-3b38-419f-b1c0-2970c228bb29",
   "metadata": {},
   "outputs": [],
   "source": [
    "df = pd.read_excel('stable_coin_daily_2021-2022.xlsx')"
   ]
  },
  {
   "cell_type": "code",
   "execution_count": 35,
   "id": "d10fabf0-38b8-45d0-981d-c46afe01ec60",
   "metadata": {},
   "outputs": [
    {
     "data": {
      "text/html": [
       "<div>\n",
       "<style scoped>\n",
       "    .dataframe tbody tr th:only-of-type {\n",
       "        vertical-align: middle;\n",
       "    }\n",
       "\n",
       "    .dataframe tbody tr th {\n",
       "        vertical-align: top;\n",
       "    }\n",
       "\n",
       "    .dataframe thead th {\n",
       "        text-align: right;\n",
       "    }\n",
       "</style>\n",
       "<table border=\"1\" class=\"dataframe\">\n",
       "  <thead>\n",
       "    <tr style=\"text-align: right;\">\n",
       "      <th></th>\n",
       "      <th>asset</th>\n",
       "      <th>time</th>\n",
       "      <th>ReferenceRate</th>\n",
       "    </tr>\n",
       "  </thead>\n",
       "  <tbody>\n",
       "    <tr>\n",
       "      <th>0</th>\n",
       "      <td>usdt</td>\n",
       "      <td>2021-01-01</td>\n",
       "      <td>1.001110</td>\n",
       "    </tr>\n",
       "    <tr>\n",
       "      <th>1</th>\n",
       "      <td>usdt</td>\n",
       "      <td>2021-01-02</td>\n",
       "      <td>1.002361</td>\n",
       "    </tr>\n",
       "    <tr>\n",
       "      <th>2</th>\n",
       "      <td>usdt</td>\n",
       "      <td>2021-01-03</td>\n",
       "      <td>1.000794</td>\n",
       "    </tr>\n",
       "    <tr>\n",
       "      <th>3</th>\n",
       "      <td>usdt</td>\n",
       "      <td>2021-01-04</td>\n",
       "      <td>1.001375</td>\n",
       "    </tr>\n",
       "    <tr>\n",
       "      <th>4</th>\n",
       "      <td>usdt</td>\n",
       "      <td>2021-01-05</td>\n",
       "      <td>1.000788</td>\n",
       "    </tr>\n",
       "    <tr>\n",
       "      <th>...</th>\n",
       "      <td>...</td>\n",
       "      <td>...</td>\n",
       "      <td>...</td>\n",
       "    </tr>\n",
       "    <tr>\n",
       "      <th>725</th>\n",
       "      <td>usdt</td>\n",
       "      <td>2022-12-27</td>\n",
       "      <td>0.999778</td>\n",
       "    </tr>\n",
       "    <tr>\n",
       "      <th>726</th>\n",
       "      <td>usdt</td>\n",
       "      <td>2022-12-28</td>\n",
       "      <td>0.999574</td>\n",
       "    </tr>\n",
       "    <tr>\n",
       "      <th>727</th>\n",
       "      <td>usdt</td>\n",
       "      <td>2022-12-29</td>\n",
       "      <td>0.999487</td>\n",
       "    </tr>\n",
       "    <tr>\n",
       "      <th>728</th>\n",
       "      <td>usdt</td>\n",
       "      <td>2022-12-30</td>\n",
       "      <td>0.999542</td>\n",
       "    </tr>\n",
       "    <tr>\n",
       "      <th>729</th>\n",
       "      <td>usdt</td>\n",
       "      <td>2022-12-31</td>\n",
       "      <td>0.999495</td>\n",
       "    </tr>\n",
       "  </tbody>\n",
       "</table>\n",
       "<p>730 rows × 3 columns</p>\n",
       "</div>"
      ],
      "text/plain": [
       "    asset       time  ReferenceRate\n",
       "0    usdt 2021-01-01       1.001110\n",
       "1    usdt 2021-01-02       1.002361\n",
       "2    usdt 2021-01-03       1.000794\n",
       "3    usdt 2021-01-04       1.001375\n",
       "4    usdt 2021-01-05       1.000788\n",
       "..    ...        ...            ...\n",
       "725  usdt 2022-12-27       0.999778\n",
       "726  usdt 2022-12-28       0.999574\n",
       "727  usdt 2022-12-29       0.999487\n",
       "728  usdt 2022-12-30       0.999542\n",
       "729  usdt 2022-12-31       0.999495\n",
       "\n",
       "[730 rows x 3 columns]"
      ]
     },
     "execution_count": 35,
     "metadata": {},
     "output_type": "execute_result"
    }
   ],
   "source": [
    "df"
   ]
  },
  {
   "cell_type": "code",
   "execution_count": 36,
   "id": "c09059b8-a8b8-451a-b470-8df17d22a00d",
   "metadata": {},
   "outputs": [],
   "source": [
    "@dataclass\n",
    "class Coin:\n",
    "    asset: str\n",
    "    time: str\n",
    "    rate: float"
   ]
  },
  {
   "cell_type": "code",
   "execution_count": 37,
   "id": "90675829-f06c-4a54-8217-80cc3b997720",
   "metadata": {},
   "outputs": [],
   "source": [
    "# Remove timezone from DataFrame for excel export\n",
    "df['time'] = df['time'].dt.tz_localize(None)"
   ]
  },
  {
   "cell_type": "code",
   "execution_count": 42,
   "id": "7c02678b-2888-4a3a-8eb6-c5e6f144bc71",
   "metadata": {},
   "outputs": [],
   "source": [
    "df['time'] = df['time'].apply(lambda x: x.strftime('%Y-%m-%d %H:%M:%S'))"
   ]
  },
  {
   "cell_type": "code",
   "execution_count": 44,
   "id": "4ee43348-5c02-4187-8c1c-954eb1455d7e",
   "metadata": {},
   "outputs": [],
   "source": [
    "coins = []\n",
    "for index, row in df.iterrows():\n",
    "    coins.append(Coin(row['asset'], row['time'], row['ReferenceRate']))\n"
   ]
  },
  {
   "cell_type": "code",
   "execution_count": 45,
   "id": "2d0a2457-4a7e-4ccc-9d0e-9d38546b2c2a",
   "metadata": {},
   "outputs": [],
   "source": [
    "import json\n",
    "\n",
    "data = {'coins': [obj.__dict__ for obj in coins]}\n",
    "\n",
    "with open(\"coin_data.json\", \"w\") as f:\n",
    "    json.dump(data, f, indent=4)"
   ]
  },
  {
   "cell_type": "code",
   "execution_count": null,
   "id": "cd52d111-7cff-4712-b0cd-9e1d770fc837",
   "metadata": {},
   "outputs": [],
   "source": []
  }
 ],
 "metadata": {
  "kernelspec": {
   "display_name": "Python 3 (ipykernel)",
   "language": "python",
   "name": "python3"
  },
  "language_info": {
   "codemirror_mode": {
    "name": "ipython",
    "version": 3
   },
   "file_extension": ".py",
   "mimetype": "text/x-python",
   "name": "python",
   "nbconvert_exporter": "python",
   "pygments_lexer": "ipython3",
   "version": "3.10.2"
  }
 },
 "nbformat": 4,
 "nbformat_minor": 5
}
