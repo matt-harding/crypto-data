{
 "cells": [
  {
   "cell_type": "code",
   "execution_count": 2,
   "id": "582f40fb-5a44-4a6a-9787-34b090813768",
   "metadata": {},
   "outputs": [
    {
     "name": "stdout",
     "output_type": "stream",
     "text": [
      "Requirement already satisfied: coinmetrics-api-client in /Users/matt/opt/anaconda3/lib/python3.9/site-packages (2022.11.14.16)\n",
      "Requirement already satisfied: orjson<4.0.0,>=3.6.0 in /Users/matt/opt/anaconda3/lib/python3.9/site-packages (from coinmetrics-api-client) (3.8.1)\n",
      "Requirement already satisfied: typer<0.7.0,>=0.6.1 in /Users/matt/opt/anaconda3/lib/python3.9/site-packages (from coinmetrics-api-client) (0.6.1)\n",
      "Requirement already satisfied: python-dateutil<3.0.0,>=2.8.2 in /Users/matt/opt/anaconda3/lib/python3.9/site-packages (from coinmetrics-api-client) (2.8.2)\n",
      "Requirement already satisfied: requests<3.0.0,>=2.24.0 in /Users/matt/opt/anaconda3/lib/python3.9/site-packages (from coinmetrics-api-client) (2.27.1)\n",
      "Requirement already satisfied: websocket-client<2.0.0,>=1.2.1 in /Users/matt/opt/anaconda3/lib/python3.9/site-packages (from coinmetrics-api-client) (1.4.2)\n",
      "Requirement already satisfied: six>=1.5 in /Users/matt/opt/anaconda3/lib/python3.9/site-packages (from python-dateutil<3.0.0,>=2.8.2->coinmetrics-api-client) (1.16.0)\n",
      "Requirement already satisfied: urllib3<1.27,>=1.21.1 in /Users/matt/opt/anaconda3/lib/python3.9/site-packages (from requests<3.0.0,>=2.24.0->coinmetrics-api-client) (1.26.9)\n",
      "Requirement already satisfied: charset-normalizer~=2.0.0 in /Users/matt/opt/anaconda3/lib/python3.9/site-packages (from requests<3.0.0,>=2.24.0->coinmetrics-api-client) (2.0.4)\n",
      "Requirement already satisfied: certifi>=2017.4.17 in /Users/matt/opt/anaconda3/lib/python3.9/site-packages (from requests<3.0.0,>=2.24.0->coinmetrics-api-client) (2021.10.8)\n",
      "Requirement already satisfied: idna<4,>=2.5 in /Users/matt/opt/anaconda3/lib/python3.9/site-packages (from requests<3.0.0,>=2.24.0->coinmetrics-api-client) (3.3)\n",
      "Requirement already satisfied: click<9.0.0,>=7.1.1 in /Users/matt/opt/anaconda3/lib/python3.9/site-packages (from typer<0.7.0,>=0.6.1->coinmetrics-api-client) (8.0.4)\n",
      "Note: you may need to restart the kernel to use updated packages.\n"
     ]
    }
   ],
   "source": [
    "'''\n",
    "    https://docs.coinmetrics.io/api/v4\n",
    "    https://docs.coinmetrics.io/market-data/market-data-overview\n",
    "    \n",
    "    Unable to access volume with paid account\n",
    "    Doesn't have a \"latest data\" but instead works as timeseries data with request date range\n",
    "'''\n",
    "\n",
    "pip install -U coinmetrics-api-client"
   ]
  },
  {
   "cell_type": "code",
   "execution_count": 4,
   "id": "70a4b6ca-a093-4c63-8631-bfedb45127f0",
   "metadata": {},
   "outputs": [],
   "source": [
    "# https://pypi.org/project/coinmetrics-api-client/\n",
    "from coinmetrics.api_client import CoinMetricsClient\n",
    "\n",
    "# Community API:\n",
    "client = CoinMetricsClient()"
   ]
  },
  {
   "cell_type": "code",
   "execution_count": 40,
   "id": "ecabfbe4-d606-464b-9b80-bda82c9f96b7",
   "metadata": {},
   "outputs": [],
   "source": [
    "assets = ['usdt', 'usdc', 'busd', 'dai', 'tusd', 'gusd'] "
   ]
  },
  {
   "cell_type": "code",
   "execution_count": 41,
   "id": "b0e28d6a-145f-4038-89c3-616fb45cbf89",
   "metadata": {},
   "outputs": [],
   "source": [
    "# https://docs.coinmetrics.io/info/metrics\n",
    "# 'volume_trusted_spot_usd_1d' is Pro only\n",
    "metrics = ['CapMrktCurUSD', 'SplyActEver', 'SplyCur','PriceUSD']"
   ]
  },
  {
   "cell_type": "code",
   "execution_count": 42,
   "id": "014c8f0b-3856-4a5b-8f79-cf87b610a3f1",
   "metadata": {},
   "outputs": [],
   "source": [
    "from dataclasses import dataclass\n",
    "\n",
    "@dataclass\n",
    "class StableCoin:\n",
    "    \"\"\"Class for condensing exchange data to just the props we care about\"\"\"\n",
    "    id: str = ''\n",
    "    symbol: str = ''\n",
    "    name: str = ''\n",
    "    market_cap: float = 0\n",
    "    circulating_supply: float = 0\n",
    "    total_supply: float = 0\n",
    "    twentyfourhour_volume: float = 0\n",
    "    price: float = 0\n",
    "    last_updated: str = ''"
   ]
  },
  {
   "cell_type": "code",
   "execution_count": 43,
   "id": "aaaac5af-9707-4af8-a3cb-e26fbd634711",
   "metadata": {},
   "outputs": [],
   "source": [
    "from datetime import datetime, timedelta\n",
    "\n",
    "df = client.get_asset_metrics(\n",
    "    assets = assets,\n",
    "    metrics = metrics,\n",
    "    start_time = (datetime.today() - timedelta(days=1)).strftime('%Y-%m-%d'),\n",
    "    end_time = datetime.today().strftime('%Y-%m-%d')\n",
    ").to_dataframe()"
   ]
  },
  {
   "cell_type": "code",
   "execution_count": 44,
   "id": "24084b9d-7358-4287-a729-00373505b538",
   "metadata": {},
   "outputs": [
    {
     "data": {
      "text/html": [
       "<div>\n",
       "<style scoped>\n",
       "    .dataframe tbody tr th:only-of-type {\n",
       "        vertical-align: middle;\n",
       "    }\n",
       "\n",
       "    .dataframe tbody tr th {\n",
       "        vertical-align: top;\n",
       "    }\n",
       "\n",
       "    .dataframe thead th {\n",
       "        text-align: right;\n",
       "    }\n",
       "</style>\n",
       "<table border=\"1\" class=\"dataframe\">\n",
       "  <thead>\n",
       "    <tr style=\"text-align: right;\">\n",
       "      <th></th>\n",
       "      <th>asset</th>\n",
       "      <th>time</th>\n",
       "      <th>CapMrktCurUSD</th>\n",
       "      <th>PriceUSD</th>\n",
       "      <th>SplyActEver</th>\n",
       "      <th>SplyCur</th>\n",
       "    </tr>\n",
       "  </thead>\n",
       "  <tbody>\n",
       "    <tr>\n",
       "      <th>0</th>\n",
       "      <td>busd</td>\n",
       "      <td>2022-11-18 00:00:00+00:00</td>\n",
       "      <td>22866832606.89480177711609444</td>\n",
       "      <td>0.999768</td>\n",
       "      <td>22868987826.381065736646688916</td>\n",
       "      <td>22872131223.560001</td>\n",
       "    </tr>\n",
       "    <tr>\n",
       "      <th>1</th>\n",
       "      <td>dai</td>\n",
       "      <td>2022-11-18 00:00:00+00:00</td>\n",
       "      <td>5426863018.392306500928666494716730982713344</td>\n",
       "      <td>0.999788</td>\n",
       "      <td>5058119334.455770389314370157</td>\n",
       "      <td>5428014426.831884</td>\n",
       "    </tr>\n",
       "    <tr>\n",
       "      <th>2</th>\n",
       "      <td>gusd</td>\n",
       "      <td>2022-11-18 00:00:00+00:00</td>\n",
       "      <td>617851520.7868752628161198</td>\n",
       "      <td>1.000285</td>\n",
       "      <td>617563236.76</td>\n",
       "      <td>617675345.09</td>\n",
       "    </tr>\n",
       "    <tr>\n",
       "      <th>3</th>\n",
       "      <td>tusd</td>\n",
       "      <td>2022-11-18 00:00:00+00:00</td>\n",
       "      <td>None</td>\n",
       "      <td>1.001004</td>\n",
       "      <td>None</td>\n",
       "      <td>459576902.95</td>\n",
       "    </tr>\n",
       "    <tr>\n",
       "      <th>4</th>\n",
       "      <td>usdc</td>\n",
       "      <td>2022-11-18 00:00:00+00:00</td>\n",
       "      <td>40493465055.0942370194586519978</td>\n",
       "      <td>0.999684</td>\n",
       "      <td>39986173096.297257</td>\n",
       "      <td>40506269713.699547</td>\n",
       "    </tr>\n",
       "    <tr>\n",
       "      <th>5</th>\n",
       "      <td>usdt</td>\n",
       "      <td>2022-11-18 00:00:00+00:00</td>\n",
       "      <td>886887920.388076728</td>\n",
       "      <td>0.998748</td>\n",
       "      <td>888000000</td>\n",
       "      <td>888000000.0</td>\n",
       "    </tr>\n",
       "  </tbody>\n",
       "</table>\n",
       "</div>"
      ],
      "text/plain": [
       "  asset                      time  \\\n",
       "0  busd 2022-11-18 00:00:00+00:00   \n",
       "1   dai 2022-11-18 00:00:00+00:00   \n",
       "2  gusd 2022-11-18 00:00:00+00:00   \n",
       "3  tusd 2022-11-18 00:00:00+00:00   \n",
       "4  usdc 2022-11-18 00:00:00+00:00   \n",
       "5  usdt 2022-11-18 00:00:00+00:00   \n",
       "\n",
       "                                  CapMrktCurUSD  PriceUSD  \\\n",
       "0                 22866832606.89480177711609444  0.999768   \n",
       "1  5426863018.392306500928666494716730982713344  0.999788   \n",
       "2                    617851520.7868752628161198  1.000285   \n",
       "3                                          None  1.001004   \n",
       "4               40493465055.0942370194586519978  0.999684   \n",
       "5                           886887920.388076728  0.998748   \n",
       "\n",
       "                      SplyActEver             SplyCur  \n",
       "0  22868987826.381065736646688916  22872131223.560001  \n",
       "1   5058119334.455770389314370157   5428014426.831884  \n",
       "2                    617563236.76        617675345.09  \n",
       "3                            None        459576902.95  \n",
       "4              39986173096.297257  40506269713.699547  \n",
       "5                       888000000         888000000.0  "
      ]
     },
     "execution_count": 44,
     "metadata": {},
     "output_type": "execute_result"
    }
   ],
   "source": [
    "df"
   ]
  },
  {
   "cell_type": "code",
   "execution_count": null,
   "id": "95c45354-e0d2-48be-b719-9b2c5129253a",
   "metadata": {},
   "outputs": [],
   "source": []
  }
 ],
 "metadata": {
  "kernelspec": {
   "display_name": "Python 3 (ipykernel)",
   "language": "python",
   "name": "python3"
  },
  "language_info": {
   "codemirror_mode": {
    "name": "ipython",
    "version": 3
   },
   "file_extension": ".py",
   "mimetype": "text/x-python",
   "name": "python",
   "nbconvert_exporter": "python",
   "pygments_lexer": "ipython3",
   "version": "3.9.12"
  }
 },
 "nbformat": 4,
 "nbformat_minor": 5
}
