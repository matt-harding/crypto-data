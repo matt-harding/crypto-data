{
 "cells": [
  {
   "cell_type": "code",
   "execution_count": 1,
   "id": "59e0bdc4-7b53-4103-8507-8e5df3ea7cc2",
   "metadata": {},
   "outputs": [],
   "source": [
    "# https://pypi.org/project/coinmetrics-api-client/\n",
    "from coinmetrics.api_client import CoinMetricsClient\n",
    "\n",
    "API_KEY = 'INSERT_API_KEY'\n",
    "\n",
    "# Community API:\n",
    "client = CoinMetricsClient(API_KEY)"
   ]
  },
  {
   "cell_type": "code",
   "execution_count": 37,
   "id": "8f91a45a-5f67-4173-8212-14d8ce8c2e7f",
   "metadata": {},
   "outputs": [],
   "source": [
    "metrics = ['CapMrktFFUSD','CapMrktCurUSD', 'TxCnt', 'TxTfrCnt', 'TxTfrValUSD', 'TxTfrValAdjUSD', 'PriceUSD','AdrBalNtv0.001Cnt', 'AdrBalNtv1Cnt', 'AdrBalNtv100Cnt', 'AdrBalNtv100KCnt']\n",
    "assets = 'usdt'"
   ]
  },
  {
   "cell_type": "code",
   "execution_count": 40,
   "id": "88aa873e-8924-4b54-aaeb-dea3cd70ba87",
   "metadata": {},
   "outputs": [],
   "source": [
    "df = client.get_asset_metrics(\n",
    "    assets = assets,\n",
    "    metrics = metrics,\n",
    "    start_time = '2021-01-01',\n",
    "    end_time = '2022-12-19',\n",
    "    frequency='1d'\n",
    ").to_dataframe()"
   ]
  },
  {
   "cell_type": "code",
   "execution_count": 44,
   "id": "7e1a1ff0-a196-4efa-b8ad-e5b08083ba7e",
   "metadata": {},
   "outputs": [],
   "source": [
    "# Remove timezone from DataFrame for excel export\n",
    "df['time'] = df['time'].dt.tz_localize(None)\n",
    "\n",
    "df.to_excel('Tether-Metrics.xlsx')"
   ]
  },
  {
   "cell_type": "code",
   "execution_count": 26,
   "id": "3679bb91-235a-48d9-84c8-d68ba7368b75",
   "metadata": {},
   "outputs": [],
   "source": [
    "df2 = client.get_exchange_asset_metrics(exchange_assets=[],metrics=[])"
   ]
  },
  {
   "cell_type": "code",
   "execution_count": 32,
   "id": "8516f345-8e13-4c10-8ce0-ccfe66424875",
   "metadata": {},
   "outputs": [],
   "source": [
    "xx = client.catalog_exchanges()"
   ]
  },
  {
   "cell_type": "code",
   "execution_count": 36,
   "id": "4d1e8bfb-2bf7-475d-aa8b-00c10b7f18fa",
   "metadata": {},
   "outputs": [
    {
     "name": "stderr",
     "output_type": "stream",
     "text": [
      "Error found for the query: \n",
      " https://api.coinmetrics.io/v4/catalog/exchange-assets?api_key=INSERT_API_KEY&exchange_assets=uniswap_v3_eth-usdc\n",
      "Error details: {'type': 'bad_parameter', 'message': \"Bad parameter 'exchange_assets'. ExchangeAsset 'uniswap_v3_eth-usdc' is not supported.\"}\n"
     ]
    },
    {
     "ename": "HTTPError",
     "evalue": "400 Client Error: Bad Request for url: https://api.coinmetrics.io/v4/catalog/exchange-assets?api_key=INSERT_API_KEY&exchange_assets=uniswap_v3_eth-usdc",
     "output_type": "error",
     "traceback": [
      "\u001b[0;31m---------------------------------------------------------------------------\u001b[0m",
      "\u001b[0;31mHTTPError\u001b[0m                                 Traceback (most recent call last)",
      "Input \u001b[0;32mIn [36]\u001b[0m, in \u001b[0;36m<cell line: 1>\u001b[0;34m()\u001b[0m\n\u001b[0;32m----> 1\u001b[0m jj \u001b[38;5;241m=\u001b[39m \u001b[43mclient\u001b[49m\u001b[38;5;241;43m.\u001b[39;49m\u001b[43mcatalog_exchange_assets\u001b[49m\u001b[43m(\u001b[49m\u001b[38;5;124;43m'\u001b[39;49m\u001b[38;5;124;43muniswap_v3_eth-usdc\u001b[39;49m\u001b[38;5;124;43m'\u001b[39;49m\u001b[43m)\u001b[49m\n",
      "File \u001b[0;32m/Library/Frameworks/Python.framework/Versions/3.10/lib/python3.10/site-packages/coinmetrics/api_client.py:303\u001b[0m, in \u001b[0;36mCoinMetricsClient.catalog_exchange_assets\u001b[0;34m(self, exchange_assets)\u001b[0m\n\u001b[1;32m    293\u001b[0m \u001b[38;5;124;03m\"\"\"\u001b[39;00m\n\u001b[1;32m    294\u001b[0m \u001b[38;5;124;03mReturns meta information about _available_ exchange-asset pairs\u001b[39;00m\n\u001b[1;32m    295\u001b[0m \n\u001b[0;32m   (...)\u001b[0m\n\u001b[1;32m    299\u001b[0m \u001b[38;5;124;03m:rtype: list(dict(str, any))\u001b[39;00m\n\u001b[1;32m    300\u001b[0m \u001b[38;5;124;03m\"\"\"\u001b[39;00m\n\u001b[1;32m    301\u001b[0m params: Dict[\u001b[38;5;28mstr\u001b[39m, Any] \u001b[38;5;241m=\u001b[39m {\u001b[38;5;124m\"\u001b[39m\u001b[38;5;124mexchange_assets\u001b[39m\u001b[38;5;124m\"\u001b[39m: exchange_assets}\n\u001b[1;32m    302\u001b[0m \u001b[38;5;28;01mreturn\u001b[39;00m CatalogExchangeAssetsData(\n\u001b[0;32m--> 303\u001b[0m     \u001b[38;5;28;43mself\u001b[39;49m\u001b[38;5;241;43m.\u001b[39;49m\u001b[43m_get_data\u001b[49m\u001b[43m(\u001b[49m\u001b[38;5;124;43m\"\u001b[39;49m\u001b[38;5;124;43mcatalog/exchange-assets\u001b[39;49m\u001b[38;5;124;43m\"\u001b[39;49m\u001b[43m,\u001b[49m\u001b[43m \u001b[49m\u001b[43mparams\u001b[49m\u001b[43m)\u001b[49m[\u001b[38;5;124m\"\u001b[39m\u001b[38;5;124mdata\u001b[39m\u001b[38;5;124m\"\u001b[39m]\n\u001b[1;32m    304\u001b[0m )\n",
      "File \u001b[0;32m/Library/Frameworks/Python.framework/Versions/3.10/lib/python3.10/site-packages/coinmetrics/api_client.py:3724\u001b[0m, in \u001b[0;36mCoinMetricsClient._get_data\u001b[0;34m(self, url, params)\u001b[0m\n\u001b[1;32m   3719\u001b[0m     error_msg \u001b[38;5;241m=\u001b[39m (\n\u001b[1;32m   3720\u001b[0m         \u001b[38;5;124mf\u001b[39m\u001b[38;5;124m\"\u001b[39m\u001b[38;5;124mError found for the query: \u001b[39m\u001b[38;5;130;01m\\n\u001b[39;00m\u001b[38;5;124m \u001b[39m\u001b[38;5;132;01m{\u001b[39;00mactual_url\u001b[38;5;132;01m}\u001b[39;00m\u001b[38;5;130;01m\\n\u001b[39;00m\u001b[38;5;124m\"\u001b[39m\n\u001b[1;32m   3721\u001b[0m         \u001b[38;5;124mf\u001b[39m\u001b[38;5;124m\"\u001b[39m\u001b[38;5;124mError details: \u001b[39m\u001b[38;5;132;01m{\u001b[39;00mdata[\u001b[38;5;124m'\u001b[39m\u001b[38;5;124merror\u001b[39m\u001b[38;5;124m'\u001b[39m]\u001b[38;5;132;01m}\u001b[39;00m\u001b[38;5;124m\"\u001b[39m\n\u001b[1;32m   3722\u001b[0m     )\n\u001b[1;32m   3723\u001b[0m     logger\u001b[38;5;241m.\u001b[39merror(error_msg)\n\u001b[0;32m-> 3724\u001b[0m     \u001b[43mresp\u001b[49m\u001b[38;5;241;43m.\u001b[39;49m\u001b[43mraise_for_status\u001b[49m\u001b[43m(\u001b[49m\u001b[43m)\u001b[49m\n\u001b[1;32m   3725\u001b[0m \u001b[38;5;28;01mreturn\u001b[39;00m cast(DataReturnType, data)\n",
      "File \u001b[0;32m/Library/Frameworks/Python.framework/Versions/3.10/lib/python3.10/site-packages/requests/models.py:960\u001b[0m, in \u001b[0;36mResponse.raise_for_status\u001b[0;34m(self)\u001b[0m\n\u001b[1;32m    957\u001b[0m     http_error_msg \u001b[38;5;241m=\u001b[39m \u001b[38;5;124mu\u001b[39m\u001b[38;5;124m'\u001b[39m\u001b[38;5;132;01m%s\u001b[39;00m\u001b[38;5;124m Server Error: \u001b[39m\u001b[38;5;132;01m%s\u001b[39;00m\u001b[38;5;124m for url: \u001b[39m\u001b[38;5;132;01m%s\u001b[39;00m\u001b[38;5;124m'\u001b[39m \u001b[38;5;241m%\u001b[39m (\u001b[38;5;28mself\u001b[39m\u001b[38;5;241m.\u001b[39mstatus_code, reason, \u001b[38;5;28mself\u001b[39m\u001b[38;5;241m.\u001b[39murl)\n\u001b[1;32m    959\u001b[0m \u001b[38;5;28;01mif\u001b[39;00m http_error_msg:\n\u001b[0;32m--> 960\u001b[0m     \u001b[38;5;28;01mraise\u001b[39;00m HTTPError(http_error_msg, response\u001b[38;5;241m=\u001b[39m\u001b[38;5;28mself\u001b[39m)\n",
      "\u001b[0;31mHTTPError\u001b[0m: 400 Client Error: Bad Request for url: https://api.coinmetrics.io/v4/catalog/exchange-assets?api_key=INSERT_API_KEY&exchange_assets=uniswap_v3_eth-usdc"
     ]
    }
   ],
   "source": [
    "jj = client.catalog_exchange_assets('uniswap_v3_eth-usdc')"
   ]
  },
  {
   "cell_type": "code",
   "execution_count": 35,
   "id": "272593b1-37df-4b16-9f43-cbd2db786501",
   "metadata": {},
   "outputs": [
    {
     "data": {
      "text/plain": [
       "[]"
      ]
     },
     "execution_count": 35,
     "metadata": {},
     "output_type": "execute_result"
    }
   ],
   "source": [
    "jj"
   ]
  },
  {
   "cell_type": "code",
   "execution_count": null,
   "id": "3c1dfe0e-83eb-4f0d-977b-b005546807ba",
   "metadata": {},
   "outputs": [],
   "source": []
  }
 ],
 "metadata": {
  "kernelspec": {
   "display_name": "Python 3 (ipykernel)",
   "language": "python",
   "name": "python3"
  },
  "language_info": {
   "codemirror_mode": {
    "name": "ipython",
    "version": 3
   },
   "file_extension": ".py",
   "mimetype": "text/x-python",
   "name": "python",
   "nbconvert_exporter": "python",
   "pygments_lexer": "ipython3",
   "version": "3.10.2"
  }
 },
 "nbformat": 4,
 "nbformat_minor": 5
}
