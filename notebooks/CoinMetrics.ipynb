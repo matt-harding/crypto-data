{
 "cells": [
  {
   "cell_type": "code",
   "execution_count": 7,
   "id": "582f40fb-5a44-4a6a-9787-34b090813768",
   "metadata": {},
   "outputs": [
    {
     "name": "stdout",
     "output_type": "stream",
     "text": [
      "zsh:1: command not found: pip\n"
     ]
    }
   ],
   "source": [
    "'''\n",
    "    https://docs.coinmetrics.io/api/v4\n",
    "    https://docs.coinmetrics.io/market-data/market-data-overview\n",
    "    \n",
    "    Unable to access volume with paid account\n",
    "    Doesn't have a \"latest data\" but instead works as timeseries data with request date range\n",
    "'''\n",
    "\n",
    "!pip install -U coinmetrics-api-client"
   ]
  },
  {
   "cell_type": "code",
   "execution_count": 8,
   "id": "70a4b6ca-a093-4c63-8631-bfedb45127f0",
   "metadata": {},
   "outputs": [],
   "source": [
    "# https://pypi.org/project/coinmetrics-api-client/\n",
    "from coinmetrics.api_client import CoinMetricsClient\n",
    "\n",
    "# Community API:\n",
    "client = CoinMetricsClient()"
   ]
  },
  {
   "cell_type": "code",
   "execution_count": 9,
   "id": "ecabfbe4-d606-464b-9b80-bda82c9f96b7",
   "metadata": {},
   "outputs": [],
   "source": [
    "assets = ['usdt', 'usdc', 'busd', 'dai', 'tusd', 'gusd'] "
   ]
  },
  {
   "cell_type": "code",
   "execution_count": 10,
   "id": "b0e28d6a-145f-4038-89c3-616fb45cbf89",
   "metadata": {},
   "outputs": [],
   "source": [
    "# https://docs.coinmetrics.io/info/metrics\n",
    "# 'volume_trusted_spot_usd_1d' is Pro only\n",
    "metrics = ['CapMrktCurUSD', 'SplyActEver', 'SplyCur','PriceUSD']"
   ]
  },
  {
   "cell_type": "code",
   "execution_count": 11,
   "id": "014c8f0b-3856-4a5b-8f79-cf87b610a3f1",
   "metadata": {},
   "outputs": [],
   "source": [
    "from dataclasses import dataclass\n",
    "\n",
    "@dataclass\n",
    "class StableCoin:\n",
    "    \"\"\"Class for condensing exchange data to just the props we care about\"\"\"\n",
    "    id: str = ''\n",
    "    symbol: str = ''\n",
    "    name: str = ''\n",
    "    market_cap: float = 0\n",
    "    circulating_supply: float = 0\n",
    "    total_supply: float = 0\n",
    "    twentyfourhour_volume: float = 0\n",
    "    price: float = 0\n",
    "    last_updated: str = ''"
   ]
  },
  {
   "cell_type": "code",
   "execution_count": 12,
   "id": "aaaac5af-9707-4af8-a3cb-e26fbd634711",
   "metadata": {},
   "outputs": [],
   "source": [
    "from datetime import datetime, timedelta\n",
    "\n",
    "df = client.get_asset_metrics(\n",
    "    assets = assets,\n",
    "    metrics = metrics,\n",
    "    start_time = (datetime.today() - timedelta(days=1)).strftime('%Y-%m-%d'),\n",
    "    end_time = datetime.today().strftime('%Y-%m-%d')\n",
    ").to_dataframe()"
   ]
  },
  {
   "cell_type": "code",
   "execution_count": 13,
   "id": "24084b9d-7358-4287-a729-00373505b538",
   "metadata": {},
   "outputs": [
    {
     "data": {
      "text/html": [
       "<div>\n",
       "<style scoped>\n",
       "    .dataframe tbody tr th:only-of-type {\n",
       "        vertical-align: middle;\n",
       "    }\n",
       "\n",
       "    .dataframe tbody tr th {\n",
       "        vertical-align: top;\n",
       "    }\n",
       "\n",
       "    .dataframe thead th {\n",
       "        text-align: right;\n",
       "    }\n",
       "</style>\n",
       "<table border=\"1\" class=\"dataframe\">\n",
       "  <thead>\n",
       "    <tr style=\"text-align: right;\">\n",
       "      <th></th>\n",
       "      <th>asset</th>\n",
       "      <th>time</th>\n",
       "      <th>CapMrktCurUSD</th>\n",
       "      <th>PriceUSD</th>\n",
       "      <th>SplyActEver</th>\n",
       "      <th>SplyCur</th>\n",
       "    </tr>\n",
       "  </thead>\n",
       "  <tbody>\n",
       "    <tr>\n",
       "      <th>0</th>\n",
       "      <td>busd</td>\n",
       "      <td>2022-11-20 00:00:00+00:00</td>\n",
       "      <td>22860063877.64338967313734128</td>\n",
       "      <td>0.999472</td>\n",
       "      <td>22863447759.181976708908250542</td>\n",
       "      <td>22872131223.560001</td>\n",
       "    </tr>\n",
       "    <tr>\n",
       "      <th>1</th>\n",
       "      <td>dai</td>\n",
       "      <td>2022-11-20 00:00:00+00:00</td>\n",
       "      <td>5404900773.842468746469885461735794834781062</td>\n",
       "      <td>0.999522</td>\n",
       "      <td>5041632345.031028287189512114</td>\n",
       "      <td>5407483352.81108</td>\n",
       "    </tr>\n",
       "    <tr>\n",
       "      <th>2</th>\n",
       "      <td>gusd</td>\n",
       "      <td>2022-11-20 00:00:00+00:00</td>\n",
       "      <td>616273572.26184452574542706</td>\n",
       "      <td>0.99977</td>\n",
       "      <td>616303360.01</td>\n",
       "      <td>616415468.34</td>\n",
       "    </tr>\n",
       "    <tr>\n",
       "      <th>3</th>\n",
       "      <td>tusd</td>\n",
       "      <td>2022-11-20 00:00:00+00:00</td>\n",
       "      <td>None</td>\n",
       "      <td>0.999236</td>\n",
       "      <td>None</td>\n",
       "      <td>459576885.35</td>\n",
       "    </tr>\n",
       "    <tr>\n",
       "      <th>4</th>\n",
       "      <td>usdc</td>\n",
       "      <td>2022-11-20 00:00:00+00:00</td>\n",
       "      <td>40546056870.44076540520887714895</td>\n",
       "      <td>0.999838</td>\n",
       "      <td>40009425762.422419</td>\n",
       "      <td>40552624594.339546</td>\n",
       "    </tr>\n",
       "    <tr>\n",
       "      <th>5</th>\n",
       "      <td>usdt</td>\n",
       "      <td>2022-11-20 00:00:00+00:00</td>\n",
       "      <td>886728675.156049392</td>\n",
       "      <td>0.998568</td>\n",
       "      <td>888000000</td>\n",
       "      <td>888000000.0</td>\n",
       "    </tr>\n",
       "  </tbody>\n",
       "</table>\n",
       "</div>"
      ],
      "text/plain": [
       "  asset                      time  \\\n",
       "0  busd 2022-11-20 00:00:00+00:00   \n",
       "1   dai 2022-11-20 00:00:00+00:00   \n",
       "2  gusd 2022-11-20 00:00:00+00:00   \n",
       "3  tusd 2022-11-20 00:00:00+00:00   \n",
       "4  usdc 2022-11-20 00:00:00+00:00   \n",
       "5  usdt 2022-11-20 00:00:00+00:00   \n",
       "\n",
       "                                  CapMrktCurUSD  PriceUSD  \\\n",
       "0                 22860063877.64338967313734128  0.999472   \n",
       "1  5404900773.842468746469885461735794834781062  0.999522   \n",
       "2                   616273572.26184452574542706   0.99977   \n",
       "3                                          None  0.999236   \n",
       "4              40546056870.44076540520887714895  0.999838   \n",
       "5                           886728675.156049392  0.998568   \n",
       "\n",
       "                      SplyActEver             SplyCur  \n",
       "0  22863447759.181976708908250542  22872131223.560001  \n",
       "1   5041632345.031028287189512114    5407483352.81108  \n",
       "2                    616303360.01        616415468.34  \n",
       "3                            None        459576885.35  \n",
       "4              40009425762.422419  40552624594.339546  \n",
       "5                       888000000         888000000.0  "
      ]
     },
     "execution_count": 13,
     "metadata": {},
     "output_type": "execute_result"
    }
   ],
   "source": [
    "df"
   ]
  },
  {
   "cell_type": "code",
   "execution_count": 31,
   "id": "95c45354-e0d2-48be-b719-9b2c5129253a",
   "metadata": {},
   "outputs": [],
   "source": [
    "xx = client.get_asset_metrics(\n",
    "    assets = assets,\n",
    "    metrics = metrics,\n",
    "    start_time = (datetime.today() - timedelta(days=1)).strftime('%Y-%m-%d'),\n",
    "    end_time = datetime.today().strftime('%Y-%m-%d')\n",
    ")"
   ]
  },
  {
   "cell_type": "code",
   "execution_count": 32,
   "id": "08b1c0cf-537b-4ee0-b1dc-04664c591bac",
   "metadata": {},
   "outputs": [
    {
     "name": "stdout",
     "output_type": "stream",
     "text": [
      "bap\n",
      "bap\n",
      "bap\n",
      "bap\n",
      "bap\n",
      "bap\n",
      "[StableCoin(id='', symbol='busd', name='', market_cap='22860063877.64338967313734128', circulating_supply='22872131223.56', total_supply='22863447759.181976708908250542', twentyfourhour_volume=0, price='0.999472399585388', last_updated=''), StableCoin(id='', symbol='dai', name='', market_cap='5404900773.842468746469885461735794834781062', circulating_supply='5407483352.811079960798567143', total_supply='5041632345.031028287189512114', twentyfourhour_volume=0, price='0.999522406487434', last_updated=''), StableCoin(id='', symbol='gusd', name='', market_cap='616273572.26184452574542706', circulating_supply='616415468.34', total_supply='616303360.01', twentyfourhour_volume=0, price='0.999769804481809', last_updated=''), StableCoin(id='', symbol='tusd', name='', market_cap=None, circulating_supply='459576885.35', total_supply=None, twentyfourhour_volume=0, price='0.999236282726597', last_updated=''), StableCoin(id='', symbol='usdc', name='', market_cap='40546056870.44076540520887714895', circulating_supply='40552624594.33955', total_supply='40009425762.422419', twentyfourhour_volume=0, price='0.999838044418469', last_updated=''), StableCoin(id='', symbol='usdt', name='', market_cap='886728675.156049392', circulating_supply='888000000', total_supply='888000000', twentyfourhour_volume=0, price='0.998568327878434', last_updated='')]\n"
     ]
    }
   ],
   "source": [
    "coins = []\n",
    "\n",
    "for coin_data in xx:\n",
    "    coin = StableCoin()\n",
    "    coin.symbol = coin_data['asset']\n",
    "    coin.market_cap = coin_data['CapMrktCurUSD']\n",
    "    coin.price = coin_data['PriceUSD']\n",
    "    coin.circulating_supply = coin_data['SplyCur']\n",
    "    coin.total_supply = coin_data['SplyActEver']\n",
    "    coins.append(coin)\n",
    "    \n",
    "print(coins)"
   ]
  },
  {
   "cell_type": "code",
   "execution_count": 26,
   "id": "7f3d4f69-f6f2-413c-a69a-ca462657537e",
   "metadata": {},
   "outputs": [
    {
     "data": {
      "text/plain": [
       "[]"
      ]
     },
     "execution_count": 26,
     "metadata": {},
     "output_type": "execute_result"
    }
   ],
   "source": [
    "y = list(xx)\n",
    "y"
   ]
  },
  {
   "cell_type": "code",
   "execution_count": 30,
   "id": "56500b7b-5ef6-44cd-89c5-db17f7fe223e",
   "metadata": {},
   "outputs": [],
   "source": [
    "for x in xx:\n",
    "    print(x)"
   ]
  },
  {
   "cell_type": "code",
   "execution_count": null,
   "id": "4de74e84-a1a1-4bb7-ab80-7298b0b332b7",
   "metadata": {},
   "outputs": [],
   "source": []
  }
 ],
 "metadata": {
  "kernelspec": {
   "display_name": "Python 3 (ipykernel)",
   "language": "python",
   "name": "python3"
  },
  "language_info": {
   "codemirror_mode": {
    "name": "ipython",
    "version": 3
   },
   "file_extension": ".py",
   "mimetype": "text/x-python",
   "name": "python",
   "nbconvert_exporter": "python",
   "pygments_lexer": "ipython3",
   "version": "3.10.2"
  }
 },
 "nbformat": 4,
 "nbformat_minor": 5
}
