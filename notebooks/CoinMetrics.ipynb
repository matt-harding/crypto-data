{
 "cells": [
  {
   "cell_type": "code",
   "execution_count": 1,
   "id": "582f40fb-5a44-4a6a-9787-34b090813768",
   "metadata": {},
   "outputs": [
    {
     "name": "stdout",
     "output_type": "stream",
     "text": [
      "zsh:1: command not found: pip\n"
     ]
    }
   ],
   "source": [
    "'''\n",
    "    https://docs.coinmetrics.io/api/v4\n",
    "    https://docs.coinmetrics.io/market-data/market-data-overview\n",
    "    \n",
    "    Unable to access volume with paid account\n",
    "    Doesn't have a \"latest data\" but instead works as timeseries data with request date range\n",
    "'''\n",
    "\n",
    "!pip install -U coinmetrics-api-client"
   ]
  },
  {
   "cell_type": "code",
   "execution_count": 2,
   "id": "70a4b6ca-a093-4c63-8631-bfedb45127f0",
   "metadata": {},
   "outputs": [],
   "source": [
    "# https://pypi.org/project/coinmetrics-api-client/\n",
    "from coinmetrics.api_client import CoinMetricsClient\n",
    "\n",
    "# Community API:\n",
    "client = CoinMetricsClient()"
   ]
  },
  {
   "cell_type": "code",
   "execution_count": 3,
   "id": "ecabfbe4-d606-464b-9b80-bda82c9f96b7",
   "metadata": {},
   "outputs": [],
   "source": [
    "assets = ['usdt', 'usdc', 'busd', 'dai', 'tusd', 'gusd'] "
   ]
  },
  {
   "cell_type": "code",
   "execution_count": 4,
   "id": "b0e28d6a-145f-4038-89c3-616fb45cbf89",
   "metadata": {},
   "outputs": [],
   "source": [
    "# https://docs.coinmetrics.io/info/metrics\n",
    "# 'volume_trusted_spot_usd_1d' is Pro only\n",
    "metrics = ['CapMrktCurUSD', 'SplyActEver', 'SplyCur','PriceUSD']"
   ]
  },
  {
   "cell_type": "code",
   "execution_count": 5,
   "id": "014c8f0b-3856-4a5b-8f79-cf87b610a3f1",
   "metadata": {},
   "outputs": [],
   "source": [
    "from dataclasses import dataclass\n",
    "\n",
    "@dataclass\n",
    "class StableCoin:\n",
    "    \"\"\"Class for condensing exchange data to just the props we care about\"\"\"\n",
    "    id: str = ''\n",
    "    symbol: str = ''\n",
    "    name: str = ''\n",
    "    market_cap: float = 0\n",
    "    circulating_supply: float = 0\n",
    "    total_supply: float = 0\n",
    "    twentyfourhour_volume: float = 0\n",
    "    price: float = 0\n",
    "    last_updated: str = ''"
   ]
  },
  {
   "cell_type": "code",
   "execution_count": 6,
   "id": "aaaac5af-9707-4af8-a3cb-e26fbd634711",
   "metadata": {},
   "outputs": [],
   "source": [
    "from datetime import datetime, timedelta\n",
    "\n",
    "df = client.get_asset_metrics(\n",
    "    assets = assets,\n",
    "    metrics = metrics,\n",
    "    start_time = (datetime.today() - timedelta(days=1)).strftime('%Y-%m-%d'),\n",
    "    end_time = datetime.today().strftime('%Y-%m-%d')\n",
    ").to_dataframe()"
   ]
  },
  {
   "cell_type": "code",
   "execution_count": 7,
   "id": "24084b9d-7358-4287-a729-00373505b538",
   "metadata": {},
   "outputs": [
    {
     "data": {
      "text/html": [
       "<div>\n",
       "<style scoped>\n",
       "    .dataframe tbody tr th:only-of-type {\n",
       "        vertical-align: middle;\n",
       "    }\n",
       "\n",
       "    .dataframe tbody tr th {\n",
       "        vertical-align: top;\n",
       "    }\n",
       "\n",
       "    .dataframe thead th {\n",
       "        text-align: right;\n",
       "    }\n",
       "</style>\n",
       "<table border=\"1\" class=\"dataframe\">\n",
       "  <thead>\n",
       "    <tr style=\"text-align: right;\">\n",
       "      <th></th>\n",
       "      <th>asset</th>\n",
       "      <th>time</th>\n",
       "      <th>CapMrktCurUSD</th>\n",
       "      <th>PriceUSD</th>\n",
       "      <th>SplyActEver</th>\n",
       "      <th>SplyCur</th>\n",
       "    </tr>\n",
       "  </thead>\n",
       "  <tbody>\n",
       "    <tr>\n",
       "      <th>0</th>\n",
       "      <td>busd</td>\n",
       "      <td>2022-11-24 00:00:00+00:00</td>\n",
       "      <td>22847977920.43210573731683358</td>\n",
       "      <td>0.999815</td>\n",
       "      <td>22779173722.457676545040546705</td>\n",
       "      <td>22852212672.470001</td>\n",
       "    </tr>\n",
       "    <tr>\n",
       "      <th>1</th>\n",
       "      <td>dai</td>\n",
       "      <td>2022-11-24 00:00:00+00:00</td>\n",
       "      <td>5263543551.190871160182197492575765202837724</td>\n",
       "      <td>0.999911</td>\n",
       "      <td>4903336539.881875670890834508</td>\n",
       "      <td>5264011787.724572</td>\n",
       "    </tr>\n",
       "    <tr>\n",
       "      <th>2</th>\n",
       "      <td>gusd</td>\n",
       "      <td>2022-11-24 00:00:00+00:00</td>\n",
       "      <td>604328540.1251885164318755</td>\n",
       "      <td>1.000669</td>\n",
       "      <td>603812356.56</td>\n",
       "      <td>603924464.89</td>\n",
       "    </tr>\n",
       "    <tr>\n",
       "      <th>3</th>\n",
       "      <td>tusd</td>\n",
       "      <td>2022-11-24 00:00:00+00:00</td>\n",
       "      <td>None</td>\n",
       "      <td>1.000048</td>\n",
       "      <td>None</td>\n",
       "      <td>442378673.76</td>\n",
       "    </tr>\n",
       "    <tr>\n",
       "      <th>4</th>\n",
       "      <td>usdc</td>\n",
       "      <td>2022-11-24 00:00:00+00:00</td>\n",
       "      <td>40573815948.86464639044906816705</td>\n",
       "      <td>0.998737</td>\n",
       "      <td>40032358717.572924</td>\n",
       "      <td>40625128784.35955</td>\n",
       "    </tr>\n",
       "    <tr>\n",
       "      <th>5</th>\n",
       "      <td>usdt</td>\n",
       "      <td>2022-11-24 00:00:00+00:00</td>\n",
       "      <td>887288969.421391152</td>\n",
       "      <td>0.999199</td>\n",
       "      <td>888000000</td>\n",
       "      <td>888000000.0</td>\n",
       "    </tr>\n",
       "  </tbody>\n",
       "</table>\n",
       "</div>"
      ],
      "text/plain": [
       "  asset                      time  \\\n",
       "0  busd 2022-11-24 00:00:00+00:00   \n",
       "1   dai 2022-11-24 00:00:00+00:00   \n",
       "2  gusd 2022-11-24 00:00:00+00:00   \n",
       "3  tusd 2022-11-24 00:00:00+00:00   \n",
       "4  usdc 2022-11-24 00:00:00+00:00   \n",
       "5  usdt 2022-11-24 00:00:00+00:00   \n",
       "\n",
       "                                  CapMrktCurUSD  PriceUSD  \\\n",
       "0                 22847977920.43210573731683358  0.999815   \n",
       "1  5263543551.190871160182197492575765202837724  0.999911   \n",
       "2                    604328540.1251885164318755  1.000669   \n",
       "3                                          None  1.000048   \n",
       "4              40573815948.86464639044906816705  0.998737   \n",
       "5                           887288969.421391152  0.999199   \n",
       "\n",
       "                      SplyActEver             SplyCur  \n",
       "0  22779173722.457676545040546705  22852212672.470001  \n",
       "1   4903336539.881875670890834508   5264011787.724572  \n",
       "2                    603812356.56        603924464.89  \n",
       "3                            None        442378673.76  \n",
       "4              40032358717.572924   40625128784.35955  \n",
       "5                       888000000         888000000.0  "
      ]
     },
     "execution_count": 7,
     "metadata": {},
     "output_type": "execute_result"
    }
   ],
   "source": [
    "df"
   ]
  },
  {
   "cell_type": "code",
   "execution_count": 8,
   "id": "4de74e84-a1a1-4bb7-ab80-7298b0b332b7",
   "metadata": {},
   "outputs": [
    {
     "name": "stderr",
     "output_type": "stream",
     "text": [
      "IOPub data rate exceeded.\n",
      "The Jupyter server will temporarily stop sending output\n",
      "to the client in order to avoid crashing it.\n",
      "To change this limit, set the config variable\n",
      "`--ServerApp.iopub_data_rate_limit`.\n",
      "\n",
      "Current values:\n",
      "ServerApp.iopub_data_rate_limit=1000000.0 (bytes/sec)\n",
      "ServerApp.rate_limit_window=3.0 (secs)\n",
      "\n"
     ]
    }
   ],
   "source": [
    "print(client.catalog_assets())"
   ]
  },
  {
   "cell_type": "code",
   "execution_count": null,
   "id": "2d3c9e6a-0c1f-4055-b223-90e88300153a",
   "metadata": {},
   "outputs": [],
   "source": []
  }
 ],
 "metadata": {
  "kernelspec": {
   "display_name": "Python 3 (ipykernel)",
   "language": "python",
   "name": "python3"
  },
  "language_info": {
   "codemirror_mode": {
    "name": "ipython",
    "version": 3
   },
   "file_extension": ".py",
   "mimetype": "text/x-python",
   "name": "python",
   "nbconvert_exporter": "python",
   "pygments_lexer": "ipython3",
   "version": "3.10.2"
  }
 },
 "nbformat": 4,
 "nbformat_minor": 5
}
