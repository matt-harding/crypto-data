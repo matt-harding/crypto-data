{
 "cells": [
  {
   "cell_type": "code",
   "execution_count": 64,
   "id": "2d39cb65-a7ad-4266-8b38-928c002a63f4",
   "metadata": {},
   "outputs": [
    {
     "data": {
      "text/plain": [
       "'\\n    OnChainFX pulls data from Messari so will be refering to their API\\n    Without an API key, requests are rate limited to 20 requests per minute and 1000 requests per day. \\n    Users that create an account will have slightly higher limits of 30 requests per minute and 2000 requests per day. \\n    PRO users have the highest limit at 60 requests per minute up to a maximum of 4000 requests per day.\\n'"
      ]
     },
     "execution_count": 64,
     "metadata": {},
     "output_type": "execute_result"
    }
   ],
   "source": [
    "\"\"\"\n",
    "    OnChainFX pulls data from Messari so will be refering to their API\n",
    "    Without an API key, requests are rate limited to 20 requests per minute and 1000 requests per day. \n",
    "    Users that create an account will have slightly higher limits of 30 requests per minute and 2000 requests per day. \n",
    "    PRO users have the highest limit at 60 requests per minute up to a maximum of 4000 requests per day.\n",
    "\"\"\"\n"
   ]
  },
  {
   "cell_type": "code",
   "execution_count": 65,
   "id": "27429ecd-e1d6-4083-b8ed-5b6908a568f0",
   "metadata": {},
   "outputs": [
    {
     "name": "stdout",
     "output_type": "stream",
     "text": [
      "Collecting git+https://github.com/messari/messari-python-api.git\n",
      "  Cloning https://github.com/messari/messari-python-api.git to /private/var/folders/3x/xv4sp89x49z5ctls1tw24k5c0000gn/T/pip-req-build-1ijr8tn_\n",
      "  Running command git clone -q https://github.com/messari/messari-python-api.git /private/var/folders/3x/xv4sp89x49z5ctls1tw24k5c0000gn/T/pip-req-build-1ijr8tn_\n",
      "  Resolved https://github.com/messari/messari-python-api.git to commit 56e7e5e923756ec3eff4028bf9c09e087e6f8475\n",
      "\u001b[33mWARNING: You are using pip version 21.2.4; however, version 22.3.1 is available.\n",
      "You should consider upgrading via the '/Library/Frameworks/Python.framework/Versions/3.10/bin/python3.10 -m pip install --upgrade pip' command.\u001b[0m\n",
      "Note: you may need to restart the kernel to use updated packages.\n"
     ]
    }
   ],
   "source": [
    "pip install -U git+https://github.com/messari/messari-python-api.git"
   ]
  },
  {
   "cell_type": "code",
   "execution_count": 66,
   "id": "21255de2-cc16-43b7-93a2-3b5c6ef7fb21",
   "metadata": {},
   "outputs": [],
   "source": [
    "# https://github.com/messari/messari-python-api\n",
    "from messari.messari import Messari\n",
    "\n",
    "messari = Messari()"
   ]
  },
  {
   "cell_type": "code",
   "execution_count": 67,
   "id": "c98ced0a-0271-499e-8788-f09427db41ea",
   "metadata": {},
   "outputs": [],
   "source": [
    "from dataclasses import dataclass\n",
    "\n",
    "@dataclass\n",
    "class StableCoin:\n",
    "    \"\"\"Class for condensing exchange data to just the props we care about\"\"\"\n",
    "    id: str = ''\n",
    "    symbol: str = ''\n",
    "    name: str = ''\n",
    "    market_cap: float = 0\n",
    "    circulating_supply: float = 0\n",
    "    total_supply: float = 0\n",
    "    twentyfourhour_volume: float = 0\n",
    "    price: float = 0\n",
    "    last_updated: str = ''"
   ]
  },
  {
   "cell_type": "code",
   "execution_count": 68,
   "id": "4f2440b7-2b7c-4149-80c8-0e7cabcb3119",
   "metadata": {},
   "outputs": [],
   "source": [
    "assets = ['tether', 'usd-coin', 'binance-usd', 'dai', 'usdp', 'gemini-dollar', 'tusd']"
   ]
  },
  {
   "cell_type": "code",
   "execution_count": 69,
   "id": "3bb84f95-1a9e-49fa-aef7-df2468e49088",
   "metadata": {},
   "outputs": [],
   "source": [
    "asset_metric_df = messari.get_asset_metrics(asset_slugs=assets)"
   ]
  },
  {
   "cell_type": "code",
   "execution_count": 70,
   "id": "774fc01e-243d-4cd3-95f6-29c59dc6bee9",
   "metadata": {},
   "outputs": [],
   "source": [
    "coins = []\n",
    "for asset in assets:\n",
    "    coin = StableCoin()\n",
    "    coin.id = asset\n",
    "    coins.append(coin)"
   ]
  },
  {
   "cell_type": "code",
   "execution_count": 71,
   "id": "a0761397-934a-48ef-b050-690ae4b669e7",
   "metadata": {},
   "outputs": [],
   "source": [
    "# https://messari.io/report/messari-proprietary-methods\n",
    "\n",
    "for coin in coins:\n",
    "    coin.symbol = asset_metric_df['symbol'][coin.id]\n",
    "    coin.name = asset_metric_df['name'][coin.id]\n",
    "    coin.price = asset_metric_df['market_data_price_usd'][coin.id]\n",
    "    coin.market_cap = asset_metric_df['marketcap_current_marketcap_usd'][coin.id]\n",
    "    coin.circulating_supply = asset_metric_df['supply_circulating'][coin.id]\n",
    "    # No other supply metrics return values\n",
    "    coin.total_supply = 0\n",
    "    # Note there is also prop 'market_data_real_volume_last_24_hours'\n",
    "    coin.twentyfourhour_volume = asset_metric_df['market_data_volume_last_24_hours'][coin.id]\n",
    "    coin.price = asset_metric_df['market_data_price_usd'][coin.id]"
   ]
  },
  {
   "cell_type": "code",
   "execution_count": 72,
   "id": "915eac5e-ef2c-4418-955a-15317f8008b1",
   "metadata": {},
   "outputs": [
    {
     "data": {
      "text/html": [
       "<div>\n",
       "<style scoped>\n",
       "    .dataframe tbody tr th:only-of-type {\n",
       "        vertical-align: middle;\n",
       "    }\n",
       "\n",
       "    .dataframe tbody tr th {\n",
       "        vertical-align: top;\n",
       "    }\n",
       "\n",
       "    .dataframe thead th {\n",
       "        text-align: right;\n",
       "    }\n",
       "</style>\n",
       "<table border=\"1\" class=\"dataframe\">\n",
       "  <thead>\n",
       "    <tr style=\"text-align: right;\">\n",
       "      <th></th>\n",
       "      <th>id</th>\n",
       "      <th>symbol</th>\n",
       "      <th>name</th>\n",
       "      <th>market_cap</th>\n",
       "      <th>circulating_supply</th>\n",
       "      <th>total_supply</th>\n",
       "      <th>twentyfourhour_volume</th>\n",
       "      <th>price</th>\n",
       "      <th>last_updated</th>\n",
       "    </tr>\n",
       "  </thead>\n",
       "  <tbody>\n",
       "    <tr>\n",
       "      <th>0</th>\n",
       "      <td>tether</td>\n",
       "      <td>USDT</td>\n",
       "      <td>Tether</td>\n",
       "      <td>6.599211e+10</td>\n",
       "      <td>6.605859e+10</td>\n",
       "      <td>0</td>\n",
       "      <td>4.730844e+08</td>\n",
       "      <td>0.999090</td>\n",
       "      <td></td>\n",
       "    </tr>\n",
       "    <tr>\n",
       "      <th>1</th>\n",
       "      <td>usd-coin</td>\n",
       "      <td>USDC</td>\n",
       "      <td>USD Coin</td>\n",
       "      <td>4.440943e+10</td>\n",
       "      <td>4.440943e+10</td>\n",
       "      <td>0</td>\n",
       "      <td>5.326089e+08</td>\n",
       "      <td>1.000000</td>\n",
       "      <td></td>\n",
       "    </tr>\n",
       "    <tr>\n",
       "      <th>2</th>\n",
       "      <td>binance-usd</td>\n",
       "      <td>BUSD</td>\n",
       "      <td>Binance USD</td>\n",
       "      <td>2.303714e+10</td>\n",
       "      <td>2.303714e+10</td>\n",
       "      <td>0</td>\n",
       "      <td>3.427246e+08</td>\n",
       "      <td>1.000000</td>\n",
       "      <td></td>\n",
       "    </tr>\n",
       "    <tr>\n",
       "      <th>3</th>\n",
       "      <td>dai</td>\n",
       "      <td>DAI</td>\n",
       "      <td>Dai</td>\n",
       "      <td>5.429732e+09</td>\n",
       "      <td>5.430603e+09</td>\n",
       "      <td>0</td>\n",
       "      <td>9.040667e+07</td>\n",
       "      <td>1.000372</td>\n",
       "      <td></td>\n",
       "    </tr>\n",
       "    <tr>\n",
       "      <th>4</th>\n",
       "      <td>usdp</td>\n",
       "      <td>USDP</td>\n",
       "      <td>USDP Stablecoin</td>\n",
       "      <td>2.704766e+06</td>\n",
       "      <td>2.901795e+06</td>\n",
       "      <td>0</td>\n",
       "      <td>7.423352e+02</td>\n",
       "      <td>0.932101</td>\n",
       "      <td></td>\n",
       "    </tr>\n",
       "    <tr>\n",
       "      <th>5</th>\n",
       "      <td>gemini-dollar</td>\n",
       "      <td>GUSD</td>\n",
       "      <td>Gemini Dollar</td>\n",
       "      <td>6.461707e+08</td>\n",
       "      <td>6.461707e+08</td>\n",
       "      <td>0</td>\n",
       "      <td>1.624145e+07</td>\n",
       "      <td>1.000000</td>\n",
       "      <td></td>\n",
       "    </tr>\n",
       "    <tr>\n",
       "      <th>6</th>\n",
       "      <td>tusd</td>\n",
       "      <td>TUSD</td>\n",
       "      <td>TrueUSD</td>\n",
       "      <td>8.662428e+08</td>\n",
       "      <td>8.645321e+08</td>\n",
       "      <td>0</td>\n",
       "      <td>1.293980e+07</td>\n",
       "      <td>1.001906</td>\n",
       "      <td></td>\n",
       "    </tr>\n",
       "  </tbody>\n",
       "</table>\n",
       "</div>"
      ],
      "text/plain": [
       "              id symbol             name    market_cap  circulating_supply  \\\n",
       "0         tether   USDT           Tether  6.599211e+10        6.605859e+10   \n",
       "1       usd-coin   USDC         USD Coin  4.440943e+10        4.440943e+10   \n",
       "2    binance-usd   BUSD      Binance USD  2.303714e+10        2.303714e+10   \n",
       "3            dai    DAI              Dai  5.429732e+09        5.430603e+09   \n",
       "4           usdp   USDP  USDP Stablecoin  2.704766e+06        2.901795e+06   \n",
       "5  gemini-dollar   GUSD    Gemini Dollar  6.461707e+08        6.461707e+08   \n",
       "6           tusd   TUSD          TrueUSD  8.662428e+08        8.645321e+08   \n",
       "\n",
       "   total_supply  twentyfourhour_volume     price last_updated  \n",
       "0             0           4.730844e+08  0.999090               \n",
       "1             0           5.326089e+08  1.000000               \n",
       "2             0           3.427246e+08  1.000000               \n",
       "3             0           9.040667e+07  1.000372               \n",
       "4             0           7.423352e+02  0.932101               \n",
       "5             0           1.624145e+07  1.000000               \n",
       "6             0           1.293980e+07  1.001906               "
      ]
     },
     "execution_count": 72,
     "metadata": {},
     "output_type": "execute_result"
    }
   ],
   "source": [
    "import pandas as pd\n",
    "\n",
    "df = pd.DataFrame(coins)\n",
    "\n",
    "df"
   ]
  },
  {
   "cell_type": "code",
   "execution_count": null,
   "id": "bb1af3ac-e7f4-4d4e-9202-40cab4f7c95f",
   "metadata": {},
   "outputs": [],
   "source": []
  }
 ],
 "metadata": {
  "kernelspec": {
   "display_name": "Python 3 (ipykernel)",
   "language": "python",
   "name": "python3"
  },
  "language_info": {
   "codemirror_mode": {
    "name": "ipython",
    "version": 3
   },
   "file_extension": ".py",
   "mimetype": "text/x-python",
   "name": "python",
   "nbconvert_exporter": "python",
   "pygments_lexer": "ipython3",
   "version": "3.10.2"
  }
 },
 "nbformat": 4,
 "nbformat_minor": 5
}
