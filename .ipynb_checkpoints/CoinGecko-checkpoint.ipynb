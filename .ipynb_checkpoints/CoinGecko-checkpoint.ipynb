{
 "cells": [
  {
   "cell_type": "code",
   "execution_count": 133,
   "id": "9fd69e10-6576-4251-8da2-d8e48f17e648",
   "metadata": {},
   "outputs": [
    {
     "data": {
      "text/plain": [
       "'\\nCoinGecko offers a free public api with no keys required\\n\\nhttps://www.coingecko.com/en/api\\n'"
      ]
     },
     "execution_count": 133,
     "metadata": {},
     "output_type": "execute_result"
    }
   ],
   "source": [
    "\"\"\"\n",
    "CoinGecko offers a free public api with no keys required\n",
    "\n",
    "https://www.coingecko.com/en/api\n",
    "\"\"\""
   ]
  },
  {
   "cell_type": "code",
   "execution_count": 134,
   "id": "d80d7919-562f-4df0-bf53-5915446f9644",
   "metadata": {},
   "outputs": [
    {
     "name": "stdout",
     "output_type": "stream",
     "text": [
      "Requirement already satisfied: pycoingecko in /Library/Frameworks/Python.framework/Versions/3.10/lib/python3.10/site-packages (3.1.0)\n",
      "Requirement already satisfied: requests in /Library/Frameworks/Python.framework/Versions/3.10/lib/python3.10/site-packages (from pycoingecko) (2.27.1)\n",
      "Requirement already satisfied: urllib3<1.27,>=1.21.1 in /Library/Frameworks/Python.framework/Versions/3.10/lib/python3.10/site-packages (from requests->pycoingecko) (1.26.8)\n",
      "Requirement already satisfied: certifi>=2017.4.17 in /Library/Frameworks/Python.framework/Versions/3.10/lib/python3.10/site-packages (from requests->pycoingecko) (2021.10.8)\n",
      "Requirement already satisfied: idna<4,>=2.5 in /Library/Frameworks/Python.framework/Versions/3.10/lib/python3.10/site-packages (from requests->pycoingecko) (2.10)\n",
      "Requirement already satisfied: charset-normalizer~=2.0.0 in /Library/Frameworks/Python.framework/Versions/3.10/lib/python3.10/site-packages (from requests->pycoingecko) (2.0.12)\n",
      "\u001b[33mWARNING: You are using pip version 21.2.4; however, version 22.3.1 is available.\n",
      "You should consider upgrading via the '/Library/Frameworks/Python.framework/Versions/3.10/bin/python3.10 -m pip install --upgrade pip' command.\u001b[0m\n",
      "Note: you may need to restart the kernel to use updated packages.\n"
     ]
    }
   ],
   "source": [
    "pip install -U pycoingecko"
   ]
  },
  {
   "cell_type": "code",
   "execution_count": 135,
   "id": "e00da75c-00c9-4491-a8fe-8f767bd8ac94",
   "metadata": {},
   "outputs": [],
   "source": [
    "from dataclasses import dataclass\n",
    "from pycoingecko import CoinGeckoAPI\n",
    "\n",
    "# https://github.com/man-c/pycoingecko\n",
    "cg = CoinGeckoAPI()"
   ]
  },
  {
   "cell_type": "code",
   "execution_count": 136,
   "id": "1568420c-a822-4165-9989-9bb1ebb8ce7f",
   "metadata": {},
   "outputs": [],
   "source": [
    "from dataclasses import dataclass\n",
    "\n",
    "@dataclass\n",
    "class StableCoin:\n",
    "    \"\"\"Class for condensing exchange data to just the props we care about\"\"\"\n",
    "    id: str = ''\n",
    "    symbol: str = ''\n",
    "    name: str = ''\n",
    "    market_cap: float = 0\n",
    "    circulating_supply: float = 0\n",
    "    total_supply: float = 0\n",
    "    twentyfourhour_volume: float = 0\n",
    "    price: float = 0\n",
    "    last_updated: str = ''"
   ]
  },
  {
   "cell_type": "code",
   "execution_count": 137,
   "id": "62412121-adec-4b92-becd-dec42d5356d5",
   "metadata": {},
   "outputs": [],
   "source": [
    "# Use to look up coins\n",
    "# all_coins = cg.get_coins_list()\n",
    "# list(filter(lambda x: x.get('symbol', '')=='usdp', all_coins))\n",
    "\n",
    "target_coin_ids = ['tether', 'usd-coin', 'binance-usd', 'dai', 'usdp', 'gemini-dollar', 'true-usd'] "
   ]
  },
  {
   "cell_type": "code",
   "execution_count": 138,
   "id": "5a335356-cd57-4085-adb8-8fd98be4f76d",
   "metadata": {},
   "outputs": [],
   "source": [
    "market_data = cg.get_coins_markets(vs_currency ='usd')"
   ]
  },
  {
   "cell_type": "code",
   "execution_count": 139,
   "id": "f9d6082c-dcd4-4c47-bf20-073737885f23",
   "metadata": {},
   "outputs": [],
   "source": [
    "coins = []\n",
    "\n",
    "for coin_data in market_data:\n",
    "    if coin_data['id'] in target_coin_ids:\n",
    "        coin = StableCoin()\n",
    "        coin.id = coin_data['id']\n",
    "        coin.symbol = coin_data['symbol']\n",
    "        coin.name = coin_data['name']\n",
    "        coin.market_cap = coin_data['market_cap']\n",
    "        coin.circulating_supply = coin_data['circulating_supply']\n",
    "        coin.total_supply = coin_data['total_supply']\n",
    "        coin.twentyfourhour_volume = coin_data['total_volume']\n",
    "        coin.price = coin_data['current_price']\n",
    "        coin.last_updated = coin_data['last_updated']\n",
    "        \n",
    "        coins.append(coin)"
   ]
  },
  {
   "cell_type": "code",
   "execution_count": 140,
   "id": "b6b142cf-69bc-46fa-be66-0d2cf69384ad",
   "metadata": {},
   "outputs": [
    {
     "data": {
      "text/html": [
       "<div>\n",
       "<style scoped>\n",
       "    .dataframe tbody tr th:only-of-type {\n",
       "        vertical-align: middle;\n",
       "    }\n",
       "\n",
       "    .dataframe tbody tr th {\n",
       "        vertical-align: top;\n",
       "    }\n",
       "\n",
       "    .dataframe thead th {\n",
       "        text-align: right;\n",
       "    }\n",
       "</style>\n",
       "<table border=\"1\" class=\"dataframe\">\n",
       "  <thead>\n",
       "    <tr style=\"text-align: right;\">\n",
       "      <th></th>\n",
       "      <th>id</th>\n",
       "      <th>symbol</th>\n",
       "      <th>name</th>\n",
       "      <th>market_cap</th>\n",
       "      <th>circulating_supply</th>\n",
       "      <th>total_supply</th>\n",
       "      <th>twentyfourhour_volume</th>\n",
       "      <th>price</th>\n",
       "      <th>last_updated</th>\n",
       "    </tr>\n",
       "  </thead>\n",
       "  <tbody>\n",
       "    <tr>\n",
       "      <th>0</th>\n",
       "      <td>tether</td>\n",
       "      <td>usdt</td>\n",
       "      <td>Tether</td>\n",
       "      <td>66083479624</td>\n",
       "      <td>6.605859e+10</td>\n",
       "      <td>6.605859e+10</td>\n",
       "      <td>38574202398</td>\n",
       "      <td>1.001</td>\n",
       "      <td>2022-11-16T17:45:33.164Z</td>\n",
       "    </tr>\n",
       "    <tr>\n",
       "      <th>1</th>\n",
       "      <td>usd-coin</td>\n",
       "      <td>usdc</td>\n",
       "      <td>USD Coin</td>\n",
       "      <td>44596421048</td>\n",
       "      <td>4.447378e+10</td>\n",
       "      <td>4.437392e+10</td>\n",
       "      <td>3395228488</td>\n",
       "      <td>1.001</td>\n",
       "      <td>2022-11-16T17:49:38.847Z</td>\n",
       "    </tr>\n",
       "    <tr>\n",
       "      <th>2</th>\n",
       "      <td>binance-usd</td>\n",
       "      <td>busd</td>\n",
       "      <td>Binance USD</td>\n",
       "      <td>23229815245</td>\n",
       "      <td>2.318480e+10</td>\n",
       "      <td>2.318480e+10</td>\n",
       "      <td>8531102477</td>\n",
       "      <td>1.002</td>\n",
       "      <td>2022-11-16T17:49:53.119Z</td>\n",
       "    </tr>\n",
       "    <tr>\n",
       "      <th>3</th>\n",
       "      <td>dai</td>\n",
       "      <td>dai</td>\n",
       "      <td>Dai</td>\n",
       "      <td>5431354591</td>\n",
       "      <td>5.427362e+09</td>\n",
       "      <td>5.424121e+09</td>\n",
       "      <td>445657052</td>\n",
       "      <td>1.001</td>\n",
       "      <td>2022-11-16T17:45:20.659Z</td>\n",
       "    </tr>\n",
       "    <tr>\n",
       "      <th>4</th>\n",
       "      <td>true-usd</td>\n",
       "      <td>tusd</td>\n",
       "      <td>TrueUSD</td>\n",
       "      <td>866066182</td>\n",
       "      <td>8.645946e+08</td>\n",
       "      <td>8.645886e+08</td>\n",
       "      <td>46058091</td>\n",
       "      <td>1.002</td>\n",
       "      <td>2022-11-16T17:49:44.214Z</td>\n",
       "    </tr>\n",
       "    <tr>\n",
       "      <th>5</th>\n",
       "      <td>gemini-dollar</td>\n",
       "      <td>gusd</td>\n",
       "      <td>Gemini Dollar</td>\n",
       "      <td>651365263</td>\n",
       "      <td>6.503262e+08</td>\n",
       "      <td>6.503262e+08</td>\n",
       "      <td>31781132</td>\n",
       "      <td>1.001</td>\n",
       "      <td>2022-11-16T17:49:55.458Z</td>\n",
       "    </tr>\n",
       "  </tbody>\n",
       "</table>\n",
       "</div>"
      ],
      "text/plain": [
       "              id symbol           name   market_cap  circulating_supply  \\\n",
       "0         tether   usdt         Tether  66083479624        6.605859e+10   \n",
       "1       usd-coin   usdc       USD Coin  44596421048        4.447378e+10   \n",
       "2    binance-usd   busd    Binance USD  23229815245        2.318480e+10   \n",
       "3            dai    dai            Dai   5431354591        5.427362e+09   \n",
       "4       true-usd   tusd        TrueUSD    866066182        8.645946e+08   \n",
       "5  gemini-dollar   gusd  Gemini Dollar    651365263        6.503262e+08   \n",
       "\n",
       "   total_supply  twentyfourhour_volume  price              last_updated  \n",
       "0  6.605859e+10            38574202398  1.001  2022-11-16T17:45:33.164Z  \n",
       "1  4.437392e+10             3395228488  1.001  2022-11-16T17:49:38.847Z  \n",
       "2  2.318480e+10             8531102477  1.002  2022-11-16T17:49:53.119Z  \n",
       "3  5.424121e+09              445657052  1.001  2022-11-16T17:45:20.659Z  \n",
       "4  8.645886e+08               46058091  1.002  2022-11-16T17:49:44.214Z  \n",
       "5  6.503262e+08               31781132  1.001  2022-11-16T17:49:55.458Z  "
      ]
     },
     "execution_count": 140,
     "metadata": {},
     "output_type": "execute_result"
    }
   ],
   "source": [
    "import pandas as pd\n",
    "\n",
    "df = pd.DataFrame(coins)\n",
    "\n",
    "df"
   ]
  },
  {
   "cell_type": "code",
   "execution_count": null,
   "id": "d0a5ed20-af6f-4d16-a522-2bee8c8ec2e9",
   "metadata": {},
   "outputs": [],
   "source": []
  }
 ],
 "metadata": {
  "kernelspec": {
   "display_name": "Python 3 (ipykernel)",
   "language": "python",
   "name": "python3"
  },
  "language_info": {
   "codemirror_mode": {
    "name": "ipython",
    "version": 3
   },
   "file_extension": ".py",
   "mimetype": "text/x-python",
   "name": "python",
   "nbconvert_exporter": "python",
   "pygments_lexer": "ipython3",
   "version": "3.10.2"
  }
 },
 "nbformat": 4,
 "nbformat_minor": 5
}
